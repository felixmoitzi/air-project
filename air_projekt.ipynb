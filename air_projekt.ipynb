{
  "cells": [
    {
      "cell_type": "markdown",
      "metadata": {
        "id": "1kgNuU2UoKfj"
      },
      "source": [
        "# Advanced Information Retrieval - Group Project\n",
        "\n",
        "## Authors\n",
        "* Felix Moitzi\n",
        "* David Rainer\n",
        "* Michael Unterberger\n",
        "\n",
        "## Short Description\n",
        "\n",
        "Training two Bi-Encoder to create similar encodings for Queries and similar Documents. One using only positive samples and the other incorporating Negative sampling. Afterwards the Bi-Encoders will be used to build basic, fast and scalable IR-Engines, the performance of which will be tested."
      ]
    },
    {
      "cell_type": "markdown",
      "metadata": {
        "id": "nsaSTH27oKfl"
      },
      "source": [
        "## Notes For the Boyz\n",
        "\n",
        "### Dataset\n",
        "\n",
        "* Kleine Beschreibung zum Dataset: https://ir-datasets.com/cranfield.html\n",
        "* Weitere Datasets die wir in Zukunft vllt. stattdessen verwenden/hinzufügen können: https://ir-datasets.com/index.html\n",
        "\n",
        "* Für den Anfang ist ein Binary-Approach (1 = relevant, 0 = irrelevant) das beste\n",
        "* Meine recommendation Werte 4 und 3 sind positiv/relevant, -1 und 1 sind negativ/irrelevant, Label 2 müssen wir noch besprechen\n",
        "* Aufbereiten der Daten für Negative Sampling in der Form: Query, Relevantes Doc, Irrelevantes Doc\n",
        "* Aufbereiten der Daten für Normales trainin\n",
        "\n",
        "* Should def. use dropout\n"
      ]
    },
    {
      "cell_type": "code",
      "execution_count": null,
      "metadata": {
        "colab": {
          "base_uri": "https://localhost:8080/"
        },
        "id": "buxFHs1GoKfl",
        "outputId": "2a5f5a22-e876-441a-9ee7-9ef2b797952b"
      },
      "outputs": [
        {
          "output_type": "stream",
          "name": "stdout",
          "text": [
            "Requirement already satisfied: ir_datasets in /usr/local/lib/python3.10/dist-packages (0.5.5)\n",
            "Requirement already satisfied: beautifulsoup4>=4.4.1 in /usr/local/lib/python3.10/dist-packages (from ir_datasets) (4.11.2)\n",
            "Requirement already satisfied: inscriptis>=2.2.0 in /usr/local/lib/python3.10/dist-packages (from ir_datasets) (2.3.2)\n",
            "Requirement already satisfied: lxml>=4.5.2 in /usr/local/lib/python3.10/dist-packages (from ir_datasets) (4.9.4)\n",
            "Requirement already satisfied: numpy>=1.18.1 in /usr/local/lib/python3.10/dist-packages (from ir_datasets) (1.23.5)\n",
            "Requirement already satisfied: pyyaml>=5.3.1 in /usr/local/lib/python3.10/dist-packages (from ir_datasets) (6.0.1)\n",
            "Requirement already satisfied: requests>=2.22.0 in /usr/local/lib/python3.10/dist-packages (from ir_datasets) (2.31.0)\n",
            "Requirement already satisfied: tqdm>=4.38.0 in /usr/local/lib/python3.10/dist-packages (from ir_datasets) (4.66.1)\n",
            "Requirement already satisfied: trec-car-tools>=2.5.4 in /usr/local/lib/python3.10/dist-packages (from ir_datasets) (2.6)\n",
            "Requirement already satisfied: lz4>=3.1.10 in /usr/local/lib/python3.10/dist-packages (from ir_datasets) (4.3.3)\n",
            "Requirement already satisfied: warc3-wet>=0.2.3 in /usr/local/lib/python3.10/dist-packages (from ir_datasets) (0.2.3)\n",
            "Requirement already satisfied: warc3-wet-clueweb09>=0.2.5 in /usr/local/lib/python3.10/dist-packages (from ir_datasets) (0.2.5)\n",
            "Requirement already satisfied: zlib-state>=0.1.3 in /usr/local/lib/python3.10/dist-packages (from ir_datasets) (0.1.6)\n",
            "Requirement already satisfied: ijson>=3.1.3 in /usr/local/lib/python3.10/dist-packages (from ir_datasets) (3.2.3)\n",
            "Requirement already satisfied: pyautocorpus>=0.1.1 in /usr/local/lib/python3.10/dist-packages (from ir_datasets) (0.1.12)\n",
            "Requirement already satisfied: unlzw3>=0.2.1 in /usr/local/lib/python3.10/dist-packages (from ir_datasets) (0.2.2)\n",
            "Requirement already satisfied: soupsieve>1.2 in /usr/local/lib/python3.10/dist-packages (from beautifulsoup4>=4.4.1->ir_datasets) (2.5)\n",
            "Requirement already satisfied: charset-normalizer<4,>=2 in /usr/local/lib/python3.10/dist-packages (from requests>=2.22.0->ir_datasets) (3.3.2)\n",
            "Requirement already satisfied: idna<4,>=2.5 in /usr/local/lib/python3.10/dist-packages (from requests>=2.22.0->ir_datasets) (3.6)\n",
            "Requirement already satisfied: urllib3<3,>=1.21.1 in /usr/local/lib/python3.10/dist-packages (from requests>=2.22.0->ir_datasets) (2.0.7)\n",
            "Requirement already satisfied: certifi>=2017.4.17 in /usr/local/lib/python3.10/dist-packages (from requests>=2.22.0->ir_datasets) (2023.11.17)\n",
            "Requirement already satisfied: cbor>=1.0.0 in /usr/local/lib/python3.10/dist-packages (from trec-car-tools>=2.5.4->ir_datasets) (1.0.0)\n",
            "Requirement already satisfied: faiss-gpu in /usr/local/lib/python3.10/dist-packages (1.7.2)\n"
          ]
        }
      ],
      "source": [
        "!pip install ir_datasets\n",
        "!pip install faiss-gpu"
      ]
    },
    {
      "cell_type": "markdown",
      "metadata": {
        "id": "37bYPxNaoKfm"
      },
      "source": [
        "## Imports"
      ]
    },
    {
      "cell_type": "code",
      "execution_count": null,
      "metadata": {
        "colab": {
          "base_uri": "https://localhost:8080/"
        },
        "id": "dTNJrEIcoKfn",
        "outputId": "c7d7a107-bbbd-403f-87c8-e07d10d65294"
      },
      "outputs": [
        {
          "output_type": "stream",
          "name": "stdout",
          "text": [
            "Using GPU: Tesla T4\n"
          ]
        }
      ],
      "source": [
        "\n",
        "import torch\n",
        "from torch.utils.data import Dataset\n",
        "from torch.utils.data import DataLoader\n",
        "import torch.nn.functional as F\n",
        "import numpy as np\n",
        "import pandas as pd\n",
        "import ir_datasets\n",
        "from torch.utils.data import DataLoader\n",
        "from torch.utils.data import Dataset\n",
        "import faiss\n",
        "from sklearn.decomposition import PCA\n",
        "import matplotlib.pyplot as plt\n",
        "\n",
        "import os\n",
        "\n",
        "#initialize gpu if available\n",
        "if torch.cuda.is_available():\n",
        "    device = torch.device(\"cuda\")\n",
        "    print(\"Using GPU:\", torch.cuda.get_device_name(torch.cuda.current_device()))\n",
        "else:\n",
        "    device = torch.device(\"cpu\")\n",
        "    print(\"Using CPU\")"
      ]
    },
    {
      "cell_type": "code",
      "execution_count": null,
      "metadata": {
        "colab": {
          "base_uri": "https://localhost:8080/"
        },
        "id": "5BirKwH-rKxt",
        "outputId": "01b2a294-0e30-497b-e19e-17f291d92d9d"
      },
      "outputs": [
        {
          "output_type": "stream",
          "name": "stdout",
          "text": [
            "Mounted at /content/drive\n"
          ]
        }
      ],
      "source": [
        "from google.colab import drive\n",
        "\n",
        "# mount google drive so save model parameters later\n",
        "drive.mount('/content/drive')\n",
        "\n",
        "# Create a folder in the root directory\n",
        "!mkdir -p \"/content/drive/My Drive/My Folder\""
      ]
    },
    {
      "cell_type": "code",
      "execution_count": null,
      "metadata": {
        "id": "lrEDQgmp2NE1"
      },
      "outputs": [],
      "source": [
        "import random\n",
        "\n",
        "def progress_bar(progress, total):\n",
        "    percent = 100 * (progress / float(total))\n",
        "    bar_length = int(percent)\n",
        "    bar = ''\n",
        "\n",
        "    # ANSI escape codes for some rainbow colors\n",
        "    colors = colors = [\n",
        "    '\\033[31m', # Red\n",
        "    '\\033[32m', # Green\n",
        "    '\\033[33m', # Yellow\n",
        "    '\\033[34m', # Blue\n",
        "    '\\033[35m', # Magenta\n",
        "    '\\033[36m', # Cyan\n",
        "    '\\033[91m', # Bright Red\n",
        "    '\\033[92m', # Bright Green\n",
        "    '\\033[93m', # Bright Yellow\n",
        "    '\\033[94m', # Bright Blue\n",
        "    '\\033[95m', # Bright Magenta\n",
        "    '\\033[96m', # Bright Cyan\n",
        "    ]\n",
        "\n",
        "    # Create the bar with random colors\n",
        "    for i in range(bar_length):\n",
        "        bar += random.choice(colors) + '█'\n",
        "    bar += '\\033[0m'  # Reset color to default\n",
        "\n",
        "    bar += '-' * (100 - bar_length)\n",
        "\n",
        "    if percent >= 100:\n",
        "        print(f\"\\r|{bar}| {percent:.2f}%\", end=\"\\n\")\n",
        "    else:\n",
        "        print(f\"\\r|{bar}| {percent:.2f}%\", end=\"\", flush=True)"
      ]
    },
    {
      "cell_type": "markdown",
      "metadata": {
        "id": "lzk8ekuDoKfn"
      },
      "source": [
        "## Load Dataset & Preprocessing"
      ]
    },
    {
      "cell_type": "code",
      "execution_count": null,
      "metadata": {
        "id": "DZoZlUohoKfn"
      },
      "outputs": [],
      "source": [
        "dataset = ir_datasets.load(\"cranfield\")"
      ]
    },
    {
      "cell_type": "code",
      "execution_count": null,
      "metadata": {
        "id": "G__5CaQmoKfn"
      },
      "outputs": [],
      "source": [
        "\n",
        "def getQrels(relevance_threshold, dataset):\n",
        "    positive_qrels = []\n",
        "    negative_qrels = []\n",
        "    for qrel in dataset.qrels_iter():\n",
        "        if qrel.relevance > relevance_threshold:\n",
        "            positive_qrels.append(qrel)\n",
        "        if qrel.relevance < relevance_threshold:\n",
        "            negative_qrels.append(qrel)\n",
        "\n",
        "    return positive_qrels, negative_qrels\n",
        "\n",
        "def getPositiveData(positive_qrels):\n",
        "    pos_train = []\n",
        "    pos_eval = []\n",
        "    pos_test = []\n",
        "\n",
        "    number_positive_qrels = len(positive_qrels)\n",
        "    print(f\"Number of positive qrels: {number_positive_qrels}\")\n",
        "    ten_percent_pos = int(number_positive_qrels / 10)\n",
        "\n",
        "    used_indices = []\n",
        "    for _ in range(ten_percent_pos):\n",
        "        rand = np.random.randint(0, number_positive_qrels)\n",
        "        while rand in used_indices:\n",
        "            rand = np.random.randint(0, number_positive_qrels)\n",
        "        pos_eval.append(positive_qrels[rand])\n",
        "        used_indices.append(rand)\n",
        "\n",
        "        rand = np.random.randint(0, number_positive_qrels)\n",
        "        while rand in used_indices:\n",
        "            rand = np.random.randint(0, number_positive_qrels)\n",
        "        pos_test.append(positive_qrels[rand])\n",
        "        used_indices.append(rand)\n",
        "\n",
        "    for i in range(0, number_positive_qrels):\n",
        "        if i not in used_indices:\n",
        "            pos_train.append(positive_qrels[i])\n",
        "\n",
        "    #print(\"Length of pos_train:\", len(pos_train))\n",
        "    #print(\"Length of pos_eval:\", len(pos_eval))\n",
        "    #print(\"Length of pos_test:\", len(pos_test))\n",
        "\n",
        "    return pos_train, pos_eval, pos_test\n",
        "\n",
        "def getNegativeData(negative_qrels):\n",
        "    neg_train = []\n",
        "    neg_eval = []\n",
        "    neg_test = []\n",
        "\n",
        "    number_negative_qrels = len(negative_qrels)\n",
        "    print(f\"Number of negative qrels: {number_negative_qrels}\")\n",
        "    ten_percent_neg = int(number_negative_qrels / 10)\n",
        "\n",
        "    used_indices = []\n",
        "    for _ in range(ten_percent_neg):\n",
        "        rand = np.random.randint(0, number_negative_qrels)\n",
        "        while rand in used_indices:\n",
        "            rand = np.random.randint(0, number_negative_qrels)\n",
        "        neg_eval.append(negative_qrels[rand])\n",
        "        used_indices.append(rand)\n",
        "\n",
        "        rand = np.random.randint(0, number_negative_qrels)\n",
        "        while rand in used_indices:\n",
        "            rand = np.random.randint(0, number_negative_qrels)\n",
        "        neg_test.append(negative_qrels[rand])\n",
        "        used_indices.append(rand)\n",
        "\n",
        "    for i in range(0, number_negative_qrels):\n",
        "        if i not in used_indices:\n",
        "            neg_train.append(negative_qrels[i])\n",
        "\n",
        "    #print(\"Length of neg_train:\", len(neg_train))\n",
        "    #print(\"Length of neg_eval:\", len(neg_eval))\n",
        "    #print(\"Length of neg_test:\", len(neg_test))\n",
        "\n",
        "    return neg_train, neg_eval, neg_test\n",
        "\n",
        "\n",
        "def loadDocuments(ds):\n",
        "    dict = {}\n",
        "    for doc in ds.docs_iter():\n",
        "        dict[int(doc.doc_id)] = doc.text\n",
        "    return dict\n",
        "\n",
        "def loadQueries(ds):\n",
        "    dict = {}\n",
        "    for query in ds.queries_iter():\n",
        "        dict[int(query.query_id)] = query.text\n",
        "    return dict\n",
        "\n",
        "def checkIfInPositives(neg_doc_ids, pos_doc_ids):\n",
        "    for n in neg_doc_ids:\n",
        "        if n in pos_doc_ids:\n",
        "            return True\n",
        "    return False\n",
        "\n",
        "\n",
        "# returns dict with query id as key and list of tuples with pos and negative doc ids as values\n",
        "def getPositiveNegativeDocIDs(processed_queries, processed_documents, pos_train_qrel, neg_train_qrel):\n",
        "    data = {} # for every query id where are positive samples, samples with positive and negative docs\n",
        "\n",
        "    # get positive query_id/doc_id pairs\n",
        "    positive_query_id_doc_ids = {}\n",
        "    for e in pos_train_qrel:\n",
        "        query_id = int(e.query_id)\n",
        "        doc_id = int(e.doc_id)\n",
        "        if query_id not in processed_queries.keys() or doc_id not in processed_documents.keys():\n",
        "            continue\n",
        "        if query_id not in positive_query_id_doc_ids.keys():\n",
        "            positive_query_id_doc_ids[query_id] = []\n",
        "        positive_query_id_doc_ids[query_id].append(doc_id)\n",
        "    #print(positive_query_id_doc_ids)\n",
        "\n",
        "\n",
        "    # get negative query_id/doc_id pairs\n",
        "    negative_query_id_doc_ids = {}\n",
        "    for e in neg_train_qrel:\n",
        "        query_id = int(e.query_id)\n",
        "        doc_id = int(e.doc_id)\n",
        "        if query_id not in processed_queries.keys() or doc_id not in processed_documents.keys():\n",
        "            continue\n",
        "        if query_id not in negative_query_id_doc_ids.keys():\n",
        "            negative_query_id_doc_ids[query_id] = []\n",
        "        negative_query_id_doc_ids[query_id].append(doc_id)\n",
        "    #print(negative_query_id_doc_ids)\n",
        "\n",
        "    for pos_query_id in positive_query_id_doc_ids.keys():\n",
        "        data[pos_query_id] = []\n",
        "\n",
        "        pos_doc_ids = positive_query_id_doc_ids[pos_query_id]\n",
        "        if pos_query_id not in negative_query_id_doc_ids.keys(): # random sampling for positive query ids where no negative docs exist\n",
        "\n",
        "            random_index = np.random.randint(0, len(negative_query_id_doc_ids.keys()))\n",
        "            neg_doc_ids = negative_query_id_doc_ids[list(negative_query_id_doc_ids.keys())[random_index]]\n",
        "\n",
        "            while checkIfInPositives(neg_doc_ids, pos_doc_ids):\n",
        "                print(\"Found neg id in positives\")\n",
        "                random_index = np.random.randint(0, len(negative_query_id_doc_ids.keys()))\n",
        "                neg_doc_ids = negative_query_id_doc_ids[list(negative_query_id_doc_ids.keys())[random_index]]\n",
        "\n",
        "        else:\n",
        "            neg_doc_ids = negative_query_id_doc_ids[pos_query_id]\n",
        "\n",
        "        for i in range(0, len(pos_doc_ids)):\n",
        "            pos_doc_id = pos_doc_ids[i]\n",
        "\n",
        "            # adding random sampling for negative doc\n",
        "            neg_index = np.random.randint(0, len(neg_doc_ids))\n",
        "            neg_doc_id = neg_doc_ids[neg_index]\n",
        "            data[pos_query_id].append((pos_doc_id, neg_doc_id))\n",
        "    return data\n",
        "\n",
        "def convertMapToListTriples(map):\n",
        "    return_list = []\n",
        "    for key in map.keys():\n",
        "        query_id = key\n",
        "        for e in map[key]:\n",
        "            return_list.append((query_id, e[0], e[1]))\n",
        "    return return_list\n",
        "\n",
        "\n",
        "\n"
      ]
    },
    {
      "cell_type": "code",
      "execution_count": null,
      "metadata": {
        "colab": {
          "base_uri": "https://localhost:8080/"
        },
        "id": "vrFhD6kvcBmb",
        "outputId": "7acc0cf2-f4ff-47f9-c090-02448b773697"
      },
      "outputs": [
        {
          "output_type": "stream",
          "name": "stderr",
          "text": [
            "[INFO] [starting] http://ir.dcs.gla.ac.uk/resources/test_collections/cran/cran.tar.gz\n",
            "[INFO] [finished] http://ir.dcs.gla.ac.uk/resources/test_collections/cran/cran.tar.gz: [00:00] [507kB] [705kB/s]\n"
          ]
        },
        {
          "output_type": "stream",
          "name": "stdout",
          "text": [
            "Number of positive qrels: 1097\n",
            "Number of negative qrels: 353\n"
          ]
        }
      ],
      "source": [
        "positive_qrels, negative_qrels = getQrels(2, dataset)\n",
        "pos_train_qrel, pos_eval_qrel, pos_test_qrel = getPositiveData(positive_qrels)\n",
        "neg_train_qrel, neg_eval_qrel, neg_test_qrel = getNegativeData(negative_qrels)\n",
        "documents = loadDocuments(dataset)\n",
        "queries = loadQueries(dataset)"
      ]
    },
    {
      "cell_type": "code",
      "execution_count": null,
      "metadata": {
        "id": "5Ac1are96cfH"
      },
      "outputs": [],
      "source": [
        "class CranfieldDatasetPOS_NEG(Dataset):\n",
        "    def __init__(self, queries, documents, pos_qrel, neg_qrel):\n",
        "        self.queries = queries\n",
        "        self.documents = documents\n",
        "        self.query_idx_pos_neg_doc_ids_map = getPositiveNegativeDocIDs(queries, documents, pos_qrel, neg_qrel)\n",
        "        self.tripples_list = convertMapToListTriples(self.query_idx_pos_neg_doc_ids_map)\n",
        "        print(f\"Dataloader initialized with {len(self.query_idx_pos_neg_doc_ids_map.keys())} query ids\")\n",
        "\n",
        "    def __len__(self):\n",
        "        return len(self.tripples_list)\n",
        "\n",
        "    def __getitem__(self, idx):\n",
        "        entry = self.tripples_list\n",
        "        query = self.queries[entry[idx][0]]\n",
        "        positive_doc = self.documents[entry[idx][1]]\n",
        "        negative_doc = self.documents[entry[idx][2]]\n",
        "\n",
        "        return query, positive_doc, negative_doc\n",
        "\n",
        "class CranfieldDatasetPOS(Dataset):\n",
        "    def __init__(self, queries, documents, pos_qrel, neg_qrel):\n",
        "        self.queries = queries\n",
        "        self.documents = documents\n",
        "        self.query_idx_pos_neg_doc_ids_map = getPositiveNegativeDocIDs(queries, documents, pos_qrel, neg_qrel)\n",
        "        self.tripples_list = convertMapToListTriples(self.query_idx_pos_neg_doc_ids_map)\n",
        "        print(f\"Dataloader initialized with {len(self.query_idx_pos_neg_doc_ids_map.keys())} query ids\")\n",
        "\n",
        "    def __len__(self):\n",
        "        return len(self.tripples_list)\n",
        "\n",
        "    def __getitem__(self, idx):\n",
        "        entry = self.tripples_list\n",
        "        query = self.queries[entry[idx][0]]\n",
        "        positive_doc = self.documents[entry[idx][1]]\n",
        "\n",
        "        return query, positive_doc\n",
        "\n"
      ]
    },
    {
      "cell_type": "markdown",
      "metadata": {
        "id": "vgQ8Mb0Lh-8Q"
      },
      "source": []
    },
    {
      "cell_type": "markdown",
      "metadata": {
        "id": "PCwsbGCAiFjA"
      },
      "source": [
        "## Create the Datasets"
      ]
    },
    {
      "cell_type": "code",
      "execution_count": null,
      "metadata": {
        "colab": {
          "base_uri": "https://localhost:8080/"
        },
        "id": "yjFg3Wngh494",
        "outputId": "53731261-ec0d-4ef8-c43d-fc9bdd90fc4f"
      },
      "outputs": [
        {
          "output_type": "stream",
          "name": "stdout",
          "text": [
            "Dataloader initialized with 132 query ids\n",
            "Dataloader initialized with 132 query ids\n",
            "Dataloader initialized with 50 query ids\n",
            "Found neg id in positives\n",
            "Dataloader initialized with 50 query ids\n",
            "Dataloader initialized with 55 query ids\n",
            "Dataloader initialized with 55 query ids\n"
          ]
        }
      ],
      "source": [
        "cranfield_dataset_pos = CranfieldDatasetPOS(queries, documents, pos_train_qrel, neg_train_qrel)\n",
        "cranfield_dataset_pos_neg = CranfieldDatasetPOS_NEG(queries, documents, pos_train_qrel, neg_train_qrel)\n",
        "\n",
        "cranfield_dataset_pos_eval = CranfieldDatasetPOS(queries, documents, pos_eval_qrel, neg_eval_qrel)\n",
        "cranfield_dataset_pos_neg_eval = CranfieldDatasetPOS_NEG(queries, documents, pos_eval_qrel, neg_eval_qrel)\n",
        "\n",
        "cranfield_dataset_pos_test = CranfieldDatasetPOS(queries, documents, pos_test_qrel, neg_test_qrel)\n",
        "cranfield_dataset_pos_neg_test = CranfieldDatasetPOS_NEG(queries, documents, pos_test_qrel, neg_test_qrel)"
      ]
    },
    {
      "cell_type": "markdown",
      "metadata": {
        "id": "HHqPpeUooKfn"
      },
      "source": [
        "## Create the Model\n",
        "\n",
        "This is one Branch of the Bi-Encoder Structure.\n",
        "It...\n",
        "\n",
        "* Encodes the input-sentence using a tokenizer\n",
        "*"
      ]
    },
    {
      "cell_type": "code",
      "execution_count": null,
      "metadata": {
        "id": "ZSleCXDOoKfo"
      },
      "outputs": [],
      "source": [
        "from transformers import DistilBertModel, DistilBertTokenizer\n",
        "#from transformers import BertModel, BertTokenizer\n",
        "\n",
        "'''\n",
        "class BertEncoder(torch.nn.Module):\n",
        "    def __init__(self, model_name):\n",
        "        super(BertEncoder, self).__init__()\n",
        "        self.encoder = BertModel.from_pretrained(model_name)\n",
        "        self.tokenizer = BertTokenizer.from_pretrained(model_name)\n",
        "\n",
        "    def forward(self, input_ids, attention_mask, token_type_ids):\n",
        "        outputs = self.encoder(input_ids=input_ids,\n",
        "                               attention_mask=attention_mask,\n",
        "                               token_type_ids=token_type_ids)\n",
        "        # Use the pooled output\n",
        "        pooled_output = outputs.pooler_output\n",
        "        return pooled_output\n",
        "\n",
        "    def encode(self, text, max_length=512):\n",
        "        inputs = self.tokenizer(text, padding=True, truncation=True, max_length=max_length, return_tensors=\"pt\")\n",
        "        inputs = {key: value.to(device) for key, value in inputs.items()}\n",
        "        return self.forward(**inputs)\n",
        "'''\n",
        "\n",
        "class DistilBertEncoder(torch.nn.Module):\n",
        "    def __init__(self, model_name):\n",
        "        super(DistilBertEncoder, self).__init__()\n",
        "        self.encoder = DistilBertModel.from_pretrained(model_name)\n",
        "        self.tokenizer = DistilBertTokenizer.from_pretrained(model_name)\n",
        "\n",
        "    def forward(self, input_ids, attention_mask):\n",
        "        outputs = self.encoder(input_ids=input_ids, attention_mask=attention_mask)\n",
        "        outputs = self.encoder(input_ids=input_ids, attention_mask=attention_mask)\n",
        "        # Mean pooling\n",
        "        token_embeddings = outputs.last_hidden_state\n",
        "        input_mask_expanded = attention_mask.unsqueeze(-1).expand(token_embeddings.size()).float()\n",
        "        sum_embeddings = torch.sum(token_embeddings * input_mask_expanded, 1)\n",
        "        sum_mask = input_mask_expanded.sum(1)\n",
        "        sum_mask = torch.clamp(sum_mask, min=1e-9)\n",
        "        mean_embeddings = sum_embeddings / sum_mask\n",
        "        return mean_embeddings\n",
        "        #return outputs.last_hidden_state[:, 0, :]  # Get cls token representation -> acts as aggregate of sequence information\n",
        "\n",
        "    def encode(self, text, max_length=512):\n",
        "        inputs = self.tokenizer(text, padding=True, truncation=True, max_length=max_length, return_tensors=\"pt\")\n",
        "        inputs = {key: value.to(device) for key, value in inputs.items()}\n",
        "        return self.forward(**inputs)\n"
      ]
    },
    {
      "cell_type": "markdown",
      "metadata": {
        "id": "xUmjgT7SuYxA"
      },
      "source": [
        "## Set up Training-utilities"
      ]
    },
    {
      "cell_type": "markdown",
      "metadata": {
        "id": "KbvpZpg7OLSn"
      },
      "source": [
        "### Create Combined Optimizers for the Encoder Pairs\n",
        "\n",
        "It is necessary to optimize both encoders of the Bi-Encoder architecture at the same time. So in the first step we take the parameters of the query- and document-encoder and combine them into a list, which will be passed to the optimizer constructor."
      ]
    },
    {
      "cell_type": "markdown",
      "metadata": {
        "id": "OBT5MN_CrE2j"
      },
      "source": [
        "### Define Standard Similarity Loss Function\n",
        "* query_embeddings: Embeddings for the queries.\n",
        "* positive_embeddings: Embeddings for the positive documents.\n",
        "\n",
        "returns Mean loss for the batch."
      ]
    },
    {
      "cell_type": "code",
      "execution_count": null,
      "metadata": {
        "id": "nTZiOYFcrMvr"
      },
      "outputs": [],
      "source": [
        "def positive_samples_loss(query_embeddings, positive_embeddings):\n",
        "\n",
        "    # Cosine similarity between query and positive samples\n",
        "    similarity = F.cosine_similarity(query_embeddings, positive_embeddings)\n",
        "\n",
        "    # the goal is to make the similarity as close to 1 as possible\n",
        "    # so we minimize the mean squared error from 1\n",
        "    loss = F.mse_loss(similarity, torch.ones_like(similarity))\n",
        "\n",
        "    return loss"
      ]
    },
    {
      "cell_type": "markdown",
      "metadata": {
        "id": "WkkZef-5mhJw"
      },
      "source": [
        "### Define Contrastive Loss Function\n",
        "Calculate contrastive loss using cosine similarity.\n",
        "    \n",
        "* query_embeddings: Embeddings for the query.\n",
        "* positive_embeddings: Embeddings for the positive documents.\n",
        "* negative_embeddings: Embeddings for the negative documents.\n",
        "* margin: Margin by which positive and negative pairs should be separated.\n",
        "\n",
        "returns Mean contrastive loss over the batch."
      ]
    },
    {
      "cell_type": "code",
      "execution_count": null,
      "metadata": {
        "id": "R2XmpPCVmn43"
      },
      "outputs": [],
      "source": [
        "def contrastive_loss(query_embeddings, positive_embeddings, negative_embeddings, margin=0.2):\n",
        "    # Cosine similarity between query and positive samples\n",
        "    pos_similarity = F.cosine_similarity(query_embeddings, positive_embeddings)\n",
        "\n",
        "    # Cosine similarity between query and negative samples\n",
        "    neg_similarity = F.cosine_similarity(query_embeddings, negative_embeddings)\n",
        "\n",
        "    doc_similarity = F.cosine_similarity(positive_embeddings, negative_embeddings)\n",
        "\n",
        "    # Loss calculation: Maximize pos_similarity and minimize neg_similarity\n",
        "    # We want pos_similarity to be high, and neg_similarity to be low\n",
        "    # neg_similarity + margin <= pos_similarity -> loss = 0\n",
        "    losses = F.sigmoid(neg_similarity + margin - pos_similarity + doc_similarity)\n",
        "\n",
        "    return losses.mean()"
      ]
    },
    {
      "cell_type": "code",
      "source": [
        "def triplet_loss(query_embeddings, positive_embeddings, negative_embeddings, margin=0.2):\n",
        "    \"\"\"\n",
        "    Compute the triplet loss.\n",
        "\n",
        "    Parameters:\n",
        "    - query_embeddings: Tensor of query embeddings\n",
        "    - positive_embeddings: Tensor of embeddings of documents relevant to the queries\n",
        "    - negative_embeddings: Tensor of embeddings of documents not relevant to the queries\n",
        "    - margin: A scalar margin for triplet loss (default is 1.0)\n",
        "\n",
        "    Returns:\n",
        "    - A scalar representing the mean triplet loss over the batch\n",
        "    \"\"\"\n",
        "\n",
        "    # Calculate pairwise distances\n",
        "    positive_distance = (query_embeddings - positive_embeddings).pow(2).sum(1)\n",
        "    negative_distance = (query_embeddings - negative_embeddings).pow(2).sum(1)\n",
        "\n",
        "    # Compute loss\n",
        "    losses = positive_distance - negative_distance + margin\n",
        "    loss = losses.clamp(min=0).mean()  # Clamp negative losses to 0 and calculate mean\n",
        "    return loss\n"
      ],
      "metadata": {
        "id": "BO_ENDT6FpVq"
      },
      "execution_count": null,
      "outputs": []
    },
    {
      "cell_type": "markdown",
      "metadata": {
        "id": "UCllBiBg2RlF"
      },
      "source": [
        "## Training Loops"
      ]
    },
    {
      "cell_type": "markdown",
      "metadata": {
        "id": "eILywMhl6gto"
      },
      "source": [
        "### Only Positive Training & Test Loop"
      ]
    },
    {
      "cell_type": "code",
      "execution_count": null,
      "metadata": {
        "id": "d8DL0xSvpIbB"
      },
      "outputs": [],
      "source": [
        "def train_pos(dataloader, q_enc, doc_enc, loss_function, optimizer):\n",
        "  q_enc.train()\n",
        "  doc_enc.train()\n",
        "  total_loss = 0\n",
        "\n",
        "\n",
        "  print(\"Train loop\")\n",
        "  for idx, batch in enumerate(dataloader):\n",
        "    progress_bar(idx, len(dataloader))\n",
        "    # batch contains queries positive docs\n",
        "    queries, pos_docs = batch\n",
        "\n",
        "    # encoding\n",
        "    query_embeddings = q_enc.encode(queries)\n",
        "    pos_doc_embeddings = doc_enc.encode(pos_docs)\n",
        "\n",
        "    # compute contrastive loss\n",
        "    loss = loss_function(query_embeddings, pos_doc_embeddings)\n",
        "\n",
        "    optimizer.zero_grad()\n",
        "    loss.backward()\n",
        "    optimizer.step()\n",
        "\n",
        "    total_loss += loss.item()\n",
        "\n",
        "  averaged_loss = total_loss / len(dataloader)\n",
        "  progress_bar(1, 1)\n",
        "  print(f\"Loss: {averaged_loss}\")\n",
        "  print(\"\\n\")"
      ]
    },
    {
      "cell_type": "code",
      "execution_count": null,
      "metadata": {
        "id": "8DzJMtVjBC-i"
      },
      "outputs": [],
      "source": [
        "def test_pos(dataloader, q_enc, doc_enc, loss_function):\n",
        "  q_enc.eval()\n",
        "  doc_enc.eval()\n",
        "\n",
        "  total_loss = 0\n",
        "  print(\"Test loop\")\n",
        "  with torch.no_grad():\n",
        "    for idx, batch in enumerate(dataloader):\n",
        "      progress_bar(idx, len(dataloader))\n",
        "      queries, pos_docs = batch\n",
        "\n",
        "      q_emb = q_enc.encode(queries)\n",
        "      doc_emb = doc_enc.encode(pos_docs)\n",
        "\n",
        "      loss = loss_function(q_emb, doc_emb)\n",
        "      total_loss += loss.item()\n",
        "    progress_bar(1, 1)\n",
        "    averaged_loss = total_loss / len(dataloader)\n",
        "    print(f\"Loss: {averaged_loss}\")\n",
        "    print(\"\\n\")\n",
        "  return averaged_loss"
      ]
    },
    {
      "cell_type": "markdown",
      "metadata": {
        "id": "VbAASGe1unTp"
      },
      "source": [
        "### Contrastive Architecture Training & Test loop (negative samples)"
      ]
    },
    {
      "cell_type": "code",
      "execution_count": null,
      "metadata": {
        "id": "TsEPGzfTu9GY"
      },
      "outputs": [],
      "source": [
        "def train_neg(dataloader, q_enc, doc_enc, loss_function, optimizer):\n",
        "  q_enc.train()\n",
        "  doc_enc.train()\n",
        "\n",
        "  total_loss = 0\n",
        "\n",
        "  print(\"Train loop\")\n",
        "  for idx, batch in enumerate(dataloader):\n",
        "    progress_bar(idx, len(dataloader))\n",
        "    # batch contains queries, positive docs, and negative docs\n",
        "    queries, pos_docs, neg_docs = batch\n",
        "\n",
        "    # encoding\n",
        "    query_embeddings = q_enc.encode(queries)\n",
        "    pos_doc_embeddings = doc_enc.encode(pos_docs)\n",
        "    neg_doc_embeddings = doc_enc.encode(neg_docs)\n",
        "\n",
        "    # compute contrastive loss\n",
        "    loss = loss_function(query_embeddings, pos_doc_embeddings, neg_doc_embeddings)\n",
        "\n",
        "    optimizer.zero_grad()\n",
        "    loss.backward()\n",
        "    optimizer.step()\n",
        "\n",
        "    total_loss += loss.item()\n",
        "\n",
        "  averaged_loss = total_loss / len(dataloader)\n",
        "  progress_bar(1, 1)\n",
        "  print(f\"Loss: {averaged_loss}\")\n",
        "  print(\"\\n\")"
      ]
    },
    {
      "cell_type": "code",
      "execution_count": null,
      "metadata": {
        "id": "nbs6cbbcBDQH"
      },
      "outputs": [],
      "source": [
        "def test_neg(dataloader, q_enc, doc_enc, loss_function):\n",
        "  q_enc.eval()\n",
        "  doc_enc.eval()\n",
        "\n",
        "  total_loss = 0\n",
        "  print(\"Test loop\")\n",
        "  with torch.no_grad():\n",
        "    for idx, batch in enumerate(dataloader):\n",
        "      progress_bar(idx, len(dataloader))\n",
        "      queries, pos_docs, neg_docs = batch\n",
        "\n",
        "      q_emb = q_enc.encode(queries)\n",
        "      pos_doc_emb = doc_enc.encode(pos_docs)\n",
        "      neg_doc_emb = doc_enc.encode(neg_docs)\n",
        "\n",
        "      loss = loss_function(q_emb, pos_doc_emb, neg_doc_emb)\n",
        "      total_loss += loss.item()\n",
        "    progress_bar(1, 1)\n",
        "    averaged_loss = total_loss / len(dataloader)\n",
        "    print(f\"Loss: {averaged_loss}\")\n",
        "    print(\"\\n\")\n",
        "  return averaged_loss"
      ]
    },
    {
      "cell_type": "markdown",
      "metadata": {
        "id": "wkR_zTFdAvYg"
      },
      "source": [
        "## Full Training & Test Loops"
      ]
    },
    {
      "cell_type": "code",
      "execution_count": null,
      "metadata": {
        "id": "g-NJ0Y3-6a-y"
      },
      "outputs": [],
      "source": [
        "epochs = 4\n",
        "learning_rate = 0.01\n",
        "batch_size = 1\n",
        "\n",
        "#model_name = \"bert-base-cased\"\n",
        "model_name = \"distilbert-base-uncased\""
      ]
    },
    {
      "cell_type": "code",
      "source": [
        "query_encoder = 0\n",
        "document_encoder = 0\n",
        "query_encoder = DistilBertEncoder(model_name)\n",
        "document_encoder = DistilBertEncoder(model_name)\n",
        "\n",
        "combined_parameters_pos = list(query_encoder.parameters()) +  list(document_encoder.parameters())\n",
        "optimizer_only_positives = torch.optim.Adam(combined_parameters_pos, lr=learning_rate)\n",
        "\n",
        "cranfield_dataloader_only_positives = DataLoader(cranfield_dataset_pos, batch_size=batch_size, shuffle=True)\n",
        "cranfield_dataloader_only_positives_eval = DataLoader(cranfield_dataset_pos_eval, batch_size=batch_size, shuffle=True)\n",
        "cranfield_dataloader_only_positives_test = DataLoader(cranfield_dataset_pos_test, batch_size=batch_size, shuffle=True)"
      ],
      "metadata": {
        "id": "HbOzufp1JYkJ",
        "colab": {
          "base_uri": "https://localhost:8080/",
          "height": 301,
          "referenced_widgets": [
            "f202b4b06454441999bee850b0664b6b",
            "9be01596594040c0a67009bde9394f0e",
            "2cc43fdebabf45edb514e8128e75edf0",
            "e6a9d1bea3bc4b839d3a07bdfa4a4be9",
            "9ba8610cf5934947aaa2cb3c35f87dbb",
            "147ac569689543eeb742ed2ce28c9664",
            "0da36dddcd6340f5af2c60200d89471a",
            "319665cb17484e41a9a820d75532a8c8",
            "28507eb95a79473a8eb5e218ffe21541",
            "834d74a4e89c441983f573a4572f80ca",
            "e668db303eff4f778d61b321cca416a1",
            "de32fd0fa7c34e8da2b596dd9a61cb9b",
            "21777ba0e9e54ed0982b2c4e4f391005",
            "e35050d6d16b458a9d7be3d627e5b6a9",
            "f680e56864ac4f3b9b84f6a3f07e31a9",
            "b57b46ef9fed4eebade8eee8621964fe",
            "6d9a9e0f10fd4fb2b71a5f183a5f11c9",
            "92e24250dd0f402aa2948df13a171ebb",
            "0754ba79040f41169962b2575ff3e289",
            "e679981e30ec4328b8097c70a0517b1b",
            "cfb31b1e95c04d18964cf0f6c3489416",
            "0f32775fdb3948baa758cbf8b5457543",
            "c3a6c9b499e74cf985873b46e501c39c",
            "bb848600d86847b89a1a0012c79903bf",
            "e55ba38cbeb74205a57cc3577e2af9cb",
            "a7e644e6befa47b89c58ec1d7b640944",
            "f35e5f588b734dfd934773f10bd19f9a",
            "799ef9cbff6a42b0a5c7506d4311b8cc",
            "b78f102dd96842e8ab536cca080a1423",
            "177228fbaad845b38f36807af7cc8e97",
            "066263d9bb834f83b9d5e4e30fd9b3ca",
            "ccacd23b941741cbbce0cde80f2ecf14",
            "67f5299cbbf54366a52a6e58292e75dd",
            "6ad877266c374de2a51005632e5c2f25",
            "bb76c76a3b4b442daa493b2f095ee5ce",
            "f9a01e1ad1604e69832e18b162e90313",
            "e1e2665d3eb144b8ab01687ee6b6dfca",
            "b9e524b0da114be1b27384d071872f3f",
            "efec0a66c6ff4f718999bf533bf5c9c9",
            "89c3a52164644b7d847b61f06ddf3289",
            "891a293ffdfe42c89e2a6f1af9ed0915",
            "e74a8e6ff56549ed9142414b791ea29c",
            "f41a4be8fbfc4ad093ec3cf8b97a8a7e",
            "905de6751fa640f09d47438fe399261b",
            "cafe2ee6a4874a2398f3a826e403cad4",
            "c352a59f0b9047f7a718ccbaa59ab4a5",
            "c159f660e84a460d869bd58c1aec7188",
            "bc37cdc6bf90445e830aa211937a0e25",
            "36fc0b41a2664e6cb782639acfe30401",
            "dadb72fdec8c46cc80ffd9f70b8cdba5",
            "7521dc892be44c5b8b99500d8e987adc",
            "2b1fcc5feef04a5d863745be06850769",
            "943ee0a654a9440b8fc97db6ad554292",
            "8eb644dda1cf47b49007d65188715885",
            "110a304977884da9886de42017542851"
          ]
        },
        "outputId": "acc4ed08-859f-4ae1-dd2c-fdf4001aa80b"
      },
      "execution_count": null,
      "outputs": [
        {
          "output_type": "stream",
          "name": "stderr",
          "text": [
            "/usr/local/lib/python3.10/dist-packages/huggingface_hub/utils/_token.py:72: UserWarning: \n",
            "The secret `HF_TOKEN` does not exist in your Colab secrets.\n",
            "To authenticate with the Hugging Face Hub, create a token in your settings tab (https://huggingface.co/settings/tokens), set it as secret in your Google Colab and restart your session.\n",
            "You will be able to reuse this secret in all of your notebooks.\n",
            "Please note that authentication is recommended but still optional to access public models or datasets.\n",
            "  warnings.warn(\n"
          ]
        },
        {
          "output_type": "display_data",
          "data": {
            "text/plain": [
              "config.json:   0%|          | 0.00/483 [00:00<?, ?B/s]"
            ],
            "application/vnd.jupyter.widget-view+json": {
              "version_major": 2,
              "version_minor": 0,
              "model_id": "f202b4b06454441999bee850b0664b6b"
            }
          },
          "metadata": {}
        },
        {
          "output_type": "display_data",
          "data": {
            "text/plain": [
              "model.safetensors:   0%|          | 0.00/268M [00:00<?, ?B/s]"
            ],
            "application/vnd.jupyter.widget-view+json": {
              "version_major": 2,
              "version_minor": 0,
              "model_id": "de32fd0fa7c34e8da2b596dd9a61cb9b"
            }
          },
          "metadata": {}
        },
        {
          "output_type": "display_data",
          "data": {
            "text/plain": [
              "tokenizer_config.json:   0%|          | 0.00/28.0 [00:00<?, ?B/s]"
            ],
            "application/vnd.jupyter.widget-view+json": {
              "version_major": 2,
              "version_minor": 0,
              "model_id": "c3a6c9b499e74cf985873b46e501c39c"
            }
          },
          "metadata": {}
        },
        {
          "output_type": "display_data",
          "data": {
            "text/plain": [
              "vocab.txt:   0%|          | 0.00/232k [00:00<?, ?B/s]"
            ],
            "application/vnd.jupyter.widget-view+json": {
              "version_major": 2,
              "version_minor": 0,
              "model_id": "6ad877266c374de2a51005632e5c2f25"
            }
          },
          "metadata": {}
        },
        {
          "output_type": "display_data",
          "data": {
            "text/plain": [
              "tokenizer.json:   0%|          | 0.00/466k [00:00<?, ?B/s]"
            ],
            "application/vnd.jupyter.widget-view+json": {
              "version_major": 2,
              "version_minor": 0,
              "model_id": "cafe2ee6a4874a2398f3a826e403cad4"
            }
          },
          "metadata": {}
        }
      ]
    },
    {
      "cell_type": "code",
      "source": [
        "query_encoder.eval()\n",
        "document_encoder.eval()\n",
        "\n",
        "query_encoder.to(device)\n",
        "document_encoder.to(device)\n",
        "\n",
        "num_elements_to_inspect = 2\n",
        "count = 0\n",
        "\n",
        "for data in cranfield_dataloader_only_positives:\n",
        "  # Process your data or do something with it\n",
        "  # ...\n",
        "  queries, pos_docs = data\n",
        "  print(tuple((queries[0][:100], )))\n",
        "  print(tuple((pos_docs[0][:100], )))\n",
        "\n",
        "  print(query_encoder.encode(queries)[0,:8].tolist())\n",
        "  print(document_encoder.encode(pos_docs)[0,:8].tolist())\n",
        "  count += 1\n",
        "  if count >= num_elements_to_inspect:\n",
        "    break\n",
        "\n",
        "query_encoder.to('cpu')\n",
        "document_encoder.to('cpu')\n",
        "torch.cuda.empty_cache()"
      ],
      "metadata": {
        "id": "varyMYbFIyap",
        "colab": {
          "base_uri": "https://localhost:8080/"
        },
        "outputId": "3fd95486-16b6-430b-d078-7b6741e9cd1f"
      },
      "execution_count": null,
      "outputs": [
        {
          "output_type": "stream",
          "name": "stdout",
          "text": [
            "('will forward or apex located controls be effective at low subsonic\\nspeeds and how do they compare wi',)\n",
            "('a small deflection theory for curved sandwich plates .\\n  a small-deflection theory that takes into a',)\n",
            "[-0.26015621423721313, 0.07670549303293228, 0.23669232428073883, 0.3044404685497284, 0.013503472320735455, -0.20957744121551514, -0.05652497336268425, -0.07393177598714828]\n",
            "[-0.23046012222766876, -0.012325674295425415, 0.11098913848400116, -0.06042644754052162, 0.12034977227449417, 0.017696034163236618, -0.29892969131469727, 0.14179900288581848]\n",
            "('has anyone investigated the unsteady lift distributions on finite\\nwings in subsonic flow .',)\n",
            "('stress and displacement analysis of simply supported\\nnon- circular cylindrical shell under lateral p',)\n",
            "[-0.3247060179710388, -0.24555647373199463, 0.073624387383461, 0.030793773010373116, -0.058627039194107056, -0.21282105147838593, -0.27859795093536377, 0.10502070933580399]\n",
            "[-0.40398550033569336, -0.01362516451627016, 0.22686520218849182, 0.0026480876840651035, 0.12389559298753738, 0.09958617389202118, -0.08364418894052505, 0.09119684249162674]\n"
          ]
        }
      ]
    },
    {
      "cell_type": "code",
      "execution_count": null,
      "metadata": {
        "colab": {
          "base_uri": "https://localhost:8080/",
          "height": 549
        },
        "id": "d6ksSBx_AMrh",
        "outputId": "b1f4bacf-faf8-4658-bdbf-dcf1c1478657"
      },
      "outputs": [
        {
          "output_type": "stream",
          "name": "stdout",
          "text": [
            "Training the first Architecture on only positives\n",
            "\n",
            "Epoch 1\n",
            "-------------------------------\n",
            "Train loop\n",
            "|\u001b[93m█\u001b[94m█\u001b[31m█\u001b[95m█\u001b[94m█\u001b[34m█\u001b[32m█\u001b[33m█\u001b[92m█\u001b[32m█\u001b[36m█\u001b[32m█\u001b[33m█\u001b[91m█\u001b[92m█\u001b[91m█\u001b[94m█\u001b[91m█\u001b[92m█\u001b[36m█\u001b[93m█\u001b[92m█\u001b[31m█\u001b[33m█\u001b[35m█\u001b[32m█\u001b[33m█\u001b[0m-------------------------------------------------------------------------| 27.92%"
          ]
        },
        {
          "output_type": "error",
          "ename": "KeyboardInterrupt",
          "evalue": "",
          "traceback": [
            "\u001b[0;31m---------------------------------------------------------------------------\u001b[0m",
            "\u001b[0;31mKeyboardInterrupt\u001b[0m                         Traceback (most recent call last)",
            "\u001b[0;32m<ipython-input-23-e6fed494aaa5>\u001b[0m in \u001b[0;36m<cell line: 6>\u001b[0;34m()\u001b[0m\n\u001b[1;32m      6\u001b[0m \u001b[0;32mfor\u001b[0m \u001b[0me\u001b[0m \u001b[0;32min\u001b[0m \u001b[0mrange\u001b[0m\u001b[0;34m(\u001b[0m\u001b[0mepochs\u001b[0m\u001b[0;34m)\u001b[0m\u001b[0;34m:\u001b[0m\u001b[0;34m\u001b[0m\u001b[0;34m\u001b[0m\u001b[0m\n\u001b[1;32m      7\u001b[0m     \u001b[0mprint\u001b[0m\u001b[0;34m(\u001b[0m\u001b[0;34mf\"Epoch {e+1}\\n-------------------------------\"\u001b[0m\u001b[0;34m)\u001b[0m\u001b[0;34m\u001b[0m\u001b[0;34m\u001b[0m\u001b[0m\n\u001b[0;32m----> 8\u001b[0;31m     \u001b[0mtrain_pos\u001b[0m\u001b[0;34m(\u001b[0m\u001b[0mcranfield_dataloader_only_positives\u001b[0m\u001b[0;34m,\u001b[0m \u001b[0mquery_encoder\u001b[0m\u001b[0;34m,\u001b[0m \u001b[0mdocument_encoder\u001b[0m\u001b[0;34m,\u001b[0m \u001b[0mpositive_samples_loss\u001b[0m\u001b[0;34m,\u001b[0m \u001b[0moptimizer_only_positives\u001b[0m\u001b[0;34m)\u001b[0m\u001b[0;34m\u001b[0m\u001b[0;34m\u001b[0m\u001b[0m\n\u001b[0m\u001b[1;32m      9\u001b[0m     \u001b[0mtest_pos\u001b[0m\u001b[0;34m(\u001b[0m\u001b[0mcranfield_dataloader_only_positives_eval\u001b[0m\u001b[0;34m,\u001b[0m \u001b[0mquery_encoder\u001b[0m\u001b[0;34m,\u001b[0m \u001b[0mdocument_encoder\u001b[0m\u001b[0;34m,\u001b[0m \u001b[0mpositive_samples_loss\u001b[0m\u001b[0;34m)\u001b[0m\u001b[0;34m\u001b[0m\u001b[0;34m\u001b[0m\u001b[0m\n\u001b[1;32m     10\u001b[0m \u001b[0mprint\u001b[0m\u001b[0;34m(\u001b[0m\u001b[0;34m\"Done!\"\u001b[0m\u001b[0;34m)\u001b[0m\u001b[0;34m\u001b[0m\u001b[0;34m\u001b[0m\u001b[0m\n",
            "\u001b[0;32m<ipython-input-14-42d3d56cd95d>\u001b[0m in \u001b[0;36mtrain_pos\u001b[0;34m(dataloader, q_enc, doc_enc, loss_function, optimizer)\u001b[0m\n\u001b[1;32m     19\u001b[0m \u001b[0;34m\u001b[0m\u001b[0m\n\u001b[1;32m     20\u001b[0m     \u001b[0moptimizer\u001b[0m\u001b[0;34m.\u001b[0m\u001b[0mzero_grad\u001b[0m\u001b[0;34m(\u001b[0m\u001b[0;34m)\u001b[0m\u001b[0;34m\u001b[0m\u001b[0;34m\u001b[0m\u001b[0m\n\u001b[0;32m---> 21\u001b[0;31m     \u001b[0mloss\u001b[0m\u001b[0;34m.\u001b[0m\u001b[0mbackward\u001b[0m\u001b[0;34m(\u001b[0m\u001b[0;34m)\u001b[0m\u001b[0;34m\u001b[0m\u001b[0;34m\u001b[0m\u001b[0m\n\u001b[0m\u001b[1;32m     22\u001b[0m     \u001b[0moptimizer\u001b[0m\u001b[0;34m.\u001b[0m\u001b[0mstep\u001b[0m\u001b[0;34m(\u001b[0m\u001b[0;34m)\u001b[0m\u001b[0;34m\u001b[0m\u001b[0;34m\u001b[0m\u001b[0m\n\u001b[1;32m     23\u001b[0m \u001b[0;34m\u001b[0m\u001b[0m\n",
            "\u001b[0;32m/usr/local/lib/python3.10/dist-packages/torch/_tensor.py\u001b[0m in \u001b[0;36mbackward\u001b[0;34m(self, gradient, retain_graph, create_graph, inputs)\u001b[0m\n\u001b[1;32m    490\u001b[0m                 \u001b[0minputs\u001b[0m\u001b[0;34m=\u001b[0m\u001b[0minputs\u001b[0m\u001b[0;34m,\u001b[0m\u001b[0;34m\u001b[0m\u001b[0;34m\u001b[0m\u001b[0m\n\u001b[1;32m    491\u001b[0m             )\n\u001b[0;32m--> 492\u001b[0;31m         torch.autograd.backward(\n\u001b[0m\u001b[1;32m    493\u001b[0m             \u001b[0mself\u001b[0m\u001b[0;34m,\u001b[0m \u001b[0mgradient\u001b[0m\u001b[0;34m,\u001b[0m \u001b[0mretain_graph\u001b[0m\u001b[0;34m,\u001b[0m \u001b[0mcreate_graph\u001b[0m\u001b[0;34m,\u001b[0m \u001b[0minputs\u001b[0m\u001b[0;34m=\u001b[0m\u001b[0minputs\u001b[0m\u001b[0;34m\u001b[0m\u001b[0;34m\u001b[0m\u001b[0m\n\u001b[1;32m    494\u001b[0m         )\n",
            "\u001b[0;32m/usr/local/lib/python3.10/dist-packages/torch/autograd/__init__.py\u001b[0m in \u001b[0;36mbackward\u001b[0;34m(tensors, grad_tensors, retain_graph, create_graph, grad_variables, inputs)\u001b[0m\n\u001b[1;32m    249\u001b[0m     \u001b[0;31m# some Python versions print out the first line of a multi-line function\u001b[0m\u001b[0;34m\u001b[0m\u001b[0;34m\u001b[0m\u001b[0m\n\u001b[1;32m    250\u001b[0m     \u001b[0;31m# calls in the traceback and some print out the last line\u001b[0m\u001b[0;34m\u001b[0m\u001b[0;34m\u001b[0m\u001b[0m\n\u001b[0;32m--> 251\u001b[0;31m     Variable._execution_engine.run_backward(  # Calls into the C++ engine to run the backward pass\n\u001b[0m\u001b[1;32m    252\u001b[0m         \u001b[0mtensors\u001b[0m\u001b[0;34m,\u001b[0m\u001b[0;34m\u001b[0m\u001b[0;34m\u001b[0m\u001b[0m\n\u001b[1;32m    253\u001b[0m         \u001b[0mgrad_tensors_\u001b[0m\u001b[0;34m,\u001b[0m\u001b[0;34m\u001b[0m\u001b[0;34m\u001b[0m\u001b[0m\n",
            "\u001b[0;31mKeyboardInterrupt\u001b[0m: "
          ]
        }
      ],
      "source": [
        "print(\"Training the first Architecture on only positives\\n\")\n",
        "\n",
        "query_encoder.to(device)\n",
        "document_encoder.to(device)\n",
        "\n",
        "for e in range(epochs):\n",
        "    print(f\"Epoch {e+1}\\n-------------------------------\")\n",
        "    train_pos(cranfield_dataloader_only_positives, query_encoder, document_encoder, positive_samples_loss, optimizer_only_positives)\n",
        "    test_pos(cranfield_dataloader_only_positives_eval, query_encoder, document_encoder, positive_samples_loss)\n",
        "print(\"Done!\")\n",
        "test_pos(cranfield_dataloader_only_positives_test, query_encoder, document_encoder, positive_samples_loss)\n",
        "\n",
        "query_encoder.to('cpu')\n",
        "document_encoder.to('cpu')\n",
        "torch.cuda.empty_cache()"
      ]
    },
    {
      "cell_type": "code",
      "source": [
        "torch.cuda.empty_cache()\n",
        "\n",
        "query_encoder_ns = 0\n",
        "document_encoder_ns = 0\n",
        "query_encoder_ns = DistilBertEncoder(model_name)\n",
        "document_encoder_ns = DistilBertEncoder(model_name)\n",
        "\n",
        "combined_parameters_ns = list(query_encoder_ns.parameters()) +  list(document_encoder_ns.parameters())\n",
        "optimizer_negative_sampling = torch.optim.Adam(combined_parameters_ns, lr=learning_rate)\n",
        "\n",
        "cranfield_dataloader = DataLoader(cranfield_dataset_pos_neg, batch_size=batch_size, shuffle=True)\n",
        "cranfield_dataloader_eval = DataLoader(cranfield_dataset_pos_neg_eval, batch_size=batch_size, shuffle=True)\n",
        "cranfield_dataloader_test = DataLoader(cranfield_dataset_pos_neg_test, batch_size=batch_size, shuffle=True)"
      ],
      "metadata": {
        "id": "yYhKaZ5WKNMn",
        "colab": {
          "base_uri": "https://localhost:8080/"
        },
        "outputId": "fccb2853-db44-423f-af9e-e6577150b519"
      },
      "execution_count": null,
      "outputs": [
        {
          "output_type": "stream",
          "name": "stderr",
          "text": [
            "/usr/local/lib/python3.10/dist-packages/huggingface_hub/utils/_token.py:72: UserWarning: \n",
            "The secret `HF_TOKEN` does not exist in your Colab secrets.\n",
            "To authenticate with the Hugging Face Hub, create a token in your settings tab (https://huggingface.co/settings/tokens), set it as secret in your Google Colab and restart your session.\n",
            "You will be able to reuse this secret in all of your notebooks.\n",
            "Please note that authentication is recommended but still optional to access public models or datasets.\n",
            "  warnings.warn(\n"
          ]
        }
      ]
    },
    {
      "cell_type": "code",
      "source": [
        "query_encoder_ns.to(device)\n",
        "document_encoder_ns.to(device)\n",
        "\n",
        "query_encoder_ns.eval()\n",
        "document_encoder_ns.eval()\n",
        "\n",
        "num_elements_to_inspect = 2\n",
        "count = 0\n",
        "\n",
        "query_embeddings = []\n",
        "pos_doc_embeddings = []\n",
        "neg_doc_embeddings = []\n",
        "\n",
        "for data in cranfield_dataloader:\n",
        "    # Process your data or do something with it\n",
        "    # ...\n",
        "    queries, pos_docs, neg_docs = data\n",
        "    print(tuple((queries[0][:100], )))\n",
        "    print(tuple((pos_docs[0][:100], )))\n",
        "    print(tuple((neg_docs[0][:100], )))\n",
        "\n",
        "    print(query_encoder_ns.encode(queries)[0,:8].tolist())\n",
        "    print(document_encoder_ns.encode(pos_docs)[0,:8].tolist())\n",
        "    print(document_encoder_ns.encode(neg_docs)[0,:8].tolist())\n",
        "\n",
        "    query_embeddings.append(query_encoder_ns.encode(queries).detach().cpu().numpy())\n",
        "    pos_doc_embeddings.append(document_encoder_ns.encode(pos_docs).detach().cpu().numpy())\n",
        "    neg_doc_embeddings.append(document_encoder_ns.encode(neg_docs).detach().cpu().numpy())\n",
        "\n",
        "    count += 1\n",
        "    if count >= num_elements_to_inspect:\n",
        "        break\n",
        "\n",
        "query_encoder_ns.to('cpu')\n",
        "document_encoder_ns.to('cpu')\n",
        "torch.cuda.empty_cache()"
      ],
      "metadata": {
        "id": "dENqB9TEJHJp",
        "colab": {
          "base_uri": "https://localhost:8080/"
        },
        "outputId": "c3d62f07-da0c-4c00-cd78-50a727ebd0f5"
      },
      "execution_count": null,
      "outputs": [
        {
          "output_type": "stream",
          "name": "stdout",
          "text": [
            "('how can the effect of the boundary-layer on wing pressure be calculated,\\nand what is its magnitude .',)\n",
            "('the problem of obtaining high lift-drag ratios at supersonic speeds .\\nthe importance of the lift to ',)\n",
            "('factors affecting lift-drag ratios at mach numbers\\nfrom 5 to 20 .\\n  yawed-cone working charts and an',)\n",
            "[-0.027332942932844162, -0.08380597829818726, 0.03669675439596176, 0.1021343395113945, 0.03578334301710129, -0.1420031487941742, -0.032796405255794525, -0.0382327139377594]\n",
            "[-0.34257394075393677, 0.12716616690158844, 0.3066047430038452, 0.010909232310950756, 0.12319497019052505, 0.005325502250343561, 0.07721095532178879, 0.08416236191987991]\n",
            "[-0.32431045174598694, -0.001157684950158, 0.32122376561164856, 0.11539521813392639, 0.1215834692120552, 0.06270729005336761, -0.07179046422243118, -0.08403115719556808]\n",
            "('has anyone investigated and developed a simple model for the vortex\\nwake behind a cruciform wing .',)\n",
            "('laminar heat transfer over blunt-nosed bodies at hypersonic flight\\nspeeds .\\nthis paper deals with tw',)\n",
            "('heat transfer to flat plate in high temperature rarefied\\nultra-high mach number flow .\\n  an investig',)\n",
            "[-0.15877962112426758, -0.08776005357503891, 0.07260975241661072, 0.02876146137714386, 0.06669487059116364, -0.20747920870780945, -0.07208219170570374, 0.08954357355833054]\n",
            "[-0.48931220173835754, -0.0650668665766716, 0.29569992423057556, -0.07995559275150299, 0.16315454244613647, -0.004913890268653631, 0.04488511383533478, 0.06910708546638489]\n",
            "[-0.4377439022064209, -0.0073997871950268745, 0.28826212882995605, 0.04794279858469963, 0.07752195745706558, 0.05484987422823906, 0.08105073124170303, -0.04023708403110504]\n"
          ]
        }
      ]
    },
    {
      "cell_type": "code",
      "source": [
        "# for plot\n",
        "\n",
        "\n",
        "pca = PCA(n_components=2)\n",
        "all_embeddings = np.concatenate([np.concatenate(query_embeddings),np.concatenate(pos_doc_embeddings),np.concatenate(neg_doc_embeddings)])\n",
        "pca.fit(all_embeddings)\n",
        "\n",
        "queries_2d = pca.transform(np.concatenate(query_embeddings))\n",
        "pos_docs_2d = pca.transform(np.concatenate(pos_doc_embeddings))\n",
        "neg_docs_2d = pca.transform(np.concatenate(neg_doc_embeddings))\n",
        "\n",
        "# Plotting\n",
        "plt.scatter(queries_2d[:, 0], queries_2d[:, 1], color='red', label='Queries')\n",
        "plt.scatter(pos_docs_2d[:, 0], pos_docs_2d[:, 1], color='green', label='Positive Documents')\n",
        "plt.scatter(neg_docs_2d[:, 0], neg_docs_2d[:, 1], color='blue', label='Negative Documents')\n",
        "\n",
        "plt.xlabel('PCA Component 1')\n",
        "plt.ylabel('PCA Component 2')\n",
        "plt.title('Embedding Visualizations with PCA')\n",
        "plt.legend()\n",
        "plt.show()\n"
      ],
      "metadata": {
        "colab": {
          "base_uri": "https://localhost:8080/",
          "height": 472
        },
        "id": "v48U61LuLb-4",
        "outputId": "ee8f3710-3cde-4cd9-cba8-cf133c993c21"
      },
      "execution_count": null,
      "outputs": [
        {
          "output_type": "display_data",
          "data": {
            "text/plain": [
              "<Figure size 640x480 with 1 Axes>"
            ],
            "image/png": "[encoded data removed]"
          },
          "metadata": {}
        }
      ]
    },
    {
      "cell_type": "code",
      "execution_count": null,
      "metadata": {
        "id": "Yl1sRSUVAM-V"
      },
      "outputs": [],
      "source": [
        "print(\"Training the second Architecture with negative sampling\\n\")\n",
        "\n",
        "query_encoder_ns.to(device)\n",
        "document_encoder_ns.to(device)\n",
        "\n",
        "for e in range(epochs):\n",
        "    print(f\"Epoch {e+1}\\n-------------------------------\")\n",
        "    train_neg(cranfield_dataloader, query_encoder_ns, document_encoder_ns, triplet_loss, optimizer_negative_sampling)\n",
        "    test_neg(cranfield_dataloader_eval, query_encoder_ns, document_encoder_ns, triplet_loss)\n",
        "print(\"Done!\")\n",
        "test_neg(cranfield_dataloader_test, query_encoder_ns, document_encoder_ns,  triplet_loss)\n",
        "\n",
        "query_encoder_ns.to('cpu')\n",
        "document_encoder_ns.to('cpu')\n",
        "torch.cuda.empty_cache()"
      ]
    },
    {
      "cell_type": "code",
      "execution_count": null,
      "metadata": {
        "id": "03iggn5c0DMW"
      },
      "outputs": [],
      "source": [
        "query_encoder.eval()\n",
        "document_encoder.eval()\n",
        "\n",
        "query_encoder.to(device)\n",
        "document_encoder.to(device)\n",
        "\n",
        "num_elements_to_inspect = 2\n",
        "count = 0\n",
        "\n",
        "for data in cranfield_dataloader_only_positives:\n",
        "  # Process your data or do something with it\n",
        "  # ...\n",
        "  queries, pos_docs = data\n",
        "  print(tuple((queries[0][:100], )))\n",
        "  print(tuple((pos_docs[0][:100], )))\n",
        "\n",
        "  print(query_encoder.encode(queries)[0,:8].tolist())\n",
        "  print(document_encoder.encode(pos_docs)[0,:8].tolist())\n",
        "  count += 1\n",
        "  if count >= num_elements_to_inspect:\n",
        "    break\n",
        "\n",
        "query_encoder.to('cpu')\n",
        "document_encoder.to('cpu')\n",
        "torch.cuda.empty_cache()"
      ]
    },
    {
      "cell_type": "code",
      "execution_count": null,
      "metadata": {
        "id": "PD6BueQIO5si"
      },
      "outputs": [],
      "source": [
        "query_encoder_ns.to(device)\n",
        "document_encoder_ns.to(device)\n",
        "\n",
        "query_encoder_ns.eval()\n",
        "document_encoder_ns.eval()\n",
        "\n",
        "num_elements_to_inspect = 2\n",
        "count = 0\n",
        "\n",
        "query_embeddings = []\n",
        "pos_doc_embeddings = []\n",
        "neg_doc_embeddings = []\n",
        "\n",
        "for data in cranfield_dataloader:\n",
        "    # Process your data or do something with it\n",
        "    # ...\n",
        "    queries, pos_docs, neg_docs = data\n",
        "    print(tuple((queries[0][:100], )))\n",
        "    print(tuple((pos_docs[0][:100], )))\n",
        "    print(tuple((neg_docs[0][:100], )))\n",
        "\n",
        "    print(query_encoder_ns.encode(queries)[0,:8].tolist())\n",
        "    print(document_encoder_ns.encode(pos_docs)[0,:8].tolist())\n",
        "    print(document_encoder_ns.encode(neg_docs)[0,:8].tolist())\n",
        "\n",
        "    query_embeddings.append(query_encoder_ns.encode(queries).detach().cpu().numpy())\n",
        "    pos_doc_embeddings.append(document_encoder_ns.encode(pos_docs).detach().cpu().numpy())\n",
        "    neg_doc_embeddings.append(document_encoder_ns.encode(neg_docs).detach().cpu().numpy())\n",
        "\n",
        "    count += 1\n",
        "    count += 1\n",
        "    if count >= num_elements_to_inspect:\n",
        "        break\n",
        "\n",
        "query_encoder_ns.to('cpu')\n",
        "document_encoder_ns.to('cpu')\n",
        "torch.cuda.empty_cache()"
      ]
    },
    {
      "cell_type": "markdown",
      "metadata": {
        "id": "gRQdHImRZ2R-"
      },
      "source": [
        "# Hyperparameter tuning\n"
      ]
    },
    {
      "cell_type": "code",
      "execution_count": null,
      "metadata": {
        "id": "Cx4staSvZ6id"
      },
      "outputs": [],
      "source": [
        "from sklearn.model_selection import ParameterGrid\n",
        "\n",
        "param_grid = {\n",
        "    'learning_rate': [0.001, 0.01, 0.1],\n",
        "    'epochs': [2, 5, 10],\n",
        "    'margin': [0.1, 0.2, 0.5],\n",
        "    #'batch_size': [16, 32, 64],\n",
        "}\n",
        "\n",
        "for params in ParameterGrid(param_grid):\n",
        "    epochs = params['epochs']\n",
        "    learning_rate = params['learning_rate']\n",
        "    margin = params['margin']\n",
        "\n",
        "    print(f\"\\nCurrent Parameters: Epochs: {epochs}, Learning Rate: {learning_rate}, Batch Size: {batch_size}\")\n",
        "\n"
      ]
    },
    {
      "cell_type": "markdown",
      "metadata": {
        "id": "E3rrYRFiboLE"
      },
      "source": [
        "FAISS KNN-IDX\n",
        "\n",
        "Info for the bois\n",
        "\n",
        "Faiss is a library developed by Facebook AI Research (FAIR) for efficient similarity search and clustering of dense vectors. It contains algorithms that are especially useful for searching in large collections of vectors. The term \"KNN-IDX\" in the context of Faiss typically refers to the process or mechanism for performing k-Nearest Neighbors (KNN) searches within an indexed dataset."
      ]
    },
    {
      "cell_type": "code",
      "execution_count": null,
      "metadata": {
        "id": "wTO8RqcbbumJ"
      },
      "outputs": [],
      "source": [
        "from transformers import DistilBertConfig\n",
        "\n",
        "config = DistilBertConfig.from_pretrained(model_name)\n",
        "model = DistilBertModel(config)\n",
        "\n",
        "# Initialize FAISS\n",
        "pos_d = config.dim\n",
        "neg_d = config.dim\n",
        "\n",
        "embeddings_pos = None\n",
        "embeddings_neg = None\n",
        "\n",
        "index_pos = faiss.IndexFlatL2(pos_d)\n",
        "index_pos.add(embeddings_pos)\n",
        "\n",
        "index_neg = faiss.IndexFlatL2(neg_d)\n",
        "index_neg.add(embeddings_neg)"
      ]
    }
  ],
  "metadata": {
    "accelerator": "GPU",
    "colab": {
      "provenance": [],
      "gpuType": "T4"
    },
    "kaggle": {
      "accelerator": "gpu",
      "dataSources": [],
      "dockerImageVersionId": 30626,
      "isGpuEnabled": true,
      "isInternetEnabled": true,
      "language": "python",
      "sourceType": "notebook"
    },
    "kernelspec": {
      "display_name": "Python 3",
      "name": "python3"
    },
    "language_info": {
      "codemirror_mode": {
        "name": "ipython",
        "version": 3
      },
      "file_extension": ".py",
      "mimetype": "text/x-python",
      "name": "python",
      "nbconvert_exporter": "python",
      "pygments_lexer": "ipython3",
      "version": "3.10.12"
    },
    "widgets": {
      "application/vnd.jupyter.widget-state+json": {
        "f202b4b06454441999bee850b0664b6b": {
          "model_module": "@jupyter-widgets/controls",
          "model_name": "HBoxModel",
          "model_module_version": "1.5.0",
          "state": {
            "_dom_classes": [],
            "_model_module": "@jupyter-widgets/controls",
            "_model_module_version": "1.5.0",
            "_model_name": "HBoxModel",
            "_view_count": null,
            "_view_module": "@jupyter-widgets/controls",
            "_view_module_version": "1.5.0",
            "_view_name": "HBoxView",
            "box_style": "",
            "children": [
              "IPY_MODEL_9be01596594040c0a67009bde9394f0e",
              "IPY_MODEL_2cc43fdebabf45edb514e8128e75edf0",
              "IPY_MODEL_e6a9d1bea3bc4b839d3a07bdfa4a4be9"
            ],
            "layout": "IPY_MODEL_9ba8610cf5934947aaa2cb3c35f87dbb"
          }
        },
        "9be01596594040c0a67009bde9394f0e": {
          "model_module": "@jupyter-widgets/controls",
          "model_name": "HTMLModel",
          "model_module_version": "1.5.0",
          "state": {
            "_dom_classes": [],
            "_model_module": "@jupyter-widgets/controls",
            "_model_module_version": "1.5.0",
            "_model_name": "HTMLModel",
            "_view_count": null,
            "_view_module": "@jupyter-widgets/controls",
            "_view_module_version": "1.5.0",
            "_view_name": "HTMLView",
            "description": "",
            "description_tooltip": null,
            "layout": "IPY_MODEL_147ac569689543eeb742ed2ce28c9664",
            "placeholder": "​",
            "style": "IPY_MODEL_0da36dddcd6340f5af2c60200d89471a",
            "value": "config.json: 100%"
          }
        },
        "2cc43fdebabf45edb514e8128e75edf0": {
          "model_module": "@jupyter-widgets/controls",
          "model_name": "FloatProgressModel",
          "model_module_version": "1.5.0",
          "state": {
            "_dom_classes": [],
            "_model_module": "@jupyter-widgets/controls",
            "_model_module_version": "1.5.0",
            "_model_name": "FloatProgressModel",
            "_view_count": null,
            "_view_module": "@jupyter-widgets/controls",
            "_view_module_version": "1.5.0",
            "_view_name": "ProgressView",
            "bar_style": "success",
            "description": "",
            "description_tooltip": null,
            "layout": "IPY_MODEL_319665cb17484e41a9a820d75532a8c8",
            "max": 483,
            "min": 0,
            "orientation": "horizontal",
            "style": "IPY_MODEL_28507eb95a79473a8eb5e218ffe21541",
            "value": 483
          }
        },
        "e6a9d1bea3bc4b839d3a07bdfa4a4be9": {
          "model_module": "@jupyter-widgets/controls",
          "model_name": "HTMLModel",
          "model_module_version": "1.5.0",
          "state": {
            "_dom_classes": [],
            "_model_module": "@jupyter-widgets/controls",
            "_model_module_version": "1.5.0",
            "_model_name": "HTMLModel",
            "_view_count": null,
            "_view_module": "@jupyter-widgets/controls",
            "_view_module_version": "1.5.0",
            "_view_name": "HTMLView",
            "description": "",
            "description_tooltip": null,
            "layout": "IPY_MODEL_834d74a4e89c441983f573a4572f80ca",
            "placeholder": "​",
            "style": "IPY_MODEL_e668db303eff4f778d61b321cca416a1",
            "value": " 483/483 [00:00&lt;00:00, 13.6kB/s]"
          }
        },
        "9ba8610cf5934947aaa2cb3c35f87dbb": {
          "model_module": "@jupyter-widgets/base",
          "model_name": "LayoutModel",
          "model_module_version": "1.2.0",
          "state": {
            "_model_module": "@jupyter-widgets/base",
            "_model_module_version": "1.2.0",
            "_model_name": "LayoutModel",
            "_view_count": null,
            "_view_module": "@jupyter-widgets/base",
            "_view_module_version": "1.2.0",
            "_view_name": "LayoutView",
            "align_content": null,
            "align_items": null,
            "align_self": null,
            "border": null,
            "bottom": null,
            "display": null,
            "flex": null,
            "flex_flow": null,
            "grid_area": null,
            "grid_auto_columns": null,
            "grid_auto_flow": null,
            "grid_auto_rows": null,
            "grid_column": null,
            "grid_gap": null,
            "grid_row": null,
            "grid_template_areas": null,
            "grid_template_columns": null,
            "grid_template_rows": null,
            "height": null,
            "justify_content": null,
            "justify_items": null,
            "left": null,
            "margin": null,
            "max_height": null,
            "max_width": null,
            "min_height": null,
            "min_width": null,
            "object_fit": null,
            "object_position": null,
            "order": null,
            "overflow": null,
            "overflow_x": null,
            "overflow_y": null,
            "padding": null,
            "right": null,
            "top": null,
            "visibility": null,
            "width": null
          }
        },
        "147ac569689543eeb742ed2ce28c9664": {
          "model_module": "@jupyter-widgets/base",
          "model_name": "LayoutModel",
          "model_module_version": "1.2.0",
          "state": {
            "_model_module": "@jupyter-widgets/base",
            "_model_module_version": "1.2.0",
            "_model_name": "LayoutModel",
            "_view_count": null,
            "_view_module": "@jupyter-widgets/base",
            "_view_module_version": "1.2.0",
            "_view_name": "LayoutView",
            "align_content": null,
            "align_items": null,
            "align_self": null,
            "border": null,
            "bottom": null,
            "display": null,
            "flex": null,
            "flex_flow": null,
            "grid_area": null,
            "grid_auto_columns": null,
            "grid_auto_flow": null,
            "grid_auto_rows": null,
            "grid_column": null,
            "grid_gap": null,
            "grid_row": null,
            "grid_template_areas": null,
            "grid_template_columns": null,
            "grid_template_rows": null,
            "height": null,
            "justify_content": null,
            "justify_items": null,
            "left": null,
            "margin": null,
            "max_height": null,
            "max_width": null,
            "min_height": null,
            "min_width": null,
            "object_fit": null,
            "object_position": null,
            "order": null,
            "overflow": null,
            "overflow_x": null,
            "overflow_y": null,
            "padding": null,
            "right": null,
            "top": null,
            "visibility": null,
            "width": null
          }
        },
        "0da36dddcd6340f5af2c60200d89471a": {
          "model_module": "@jupyter-widgets/controls",
          "model_name": "DescriptionStyleModel",
          "model_module_version": "1.5.0",
          "state": {
            "_model_module": "@jupyter-widgets/controls",
            "_model_module_version": "1.5.0",
            "_model_name": "DescriptionStyleModel",
            "_view_count": null,
            "_view_module": "@jupyter-widgets/base",
            "_view_module_version": "1.2.0",
            "_view_name": "StyleView",
            "description_width": ""
          }
        },
        "319665cb17484e41a9a820d75532a8c8": {
          "model_module": "@jupyter-widgets/base",
          "model_name": "LayoutModel",
          "model_module_version": "1.2.0",
          "state": {
            "_model_module": "@jupyter-widgets/base",
            "_model_module_version": "1.2.0",
            "_model_name": "LayoutModel",
            "_view_count": null,
            "_view_module": "@jupyter-widgets/base",
            "_view_module_version": "1.2.0",
            "_view_name": "LayoutView",
            "align_content": null,
            "align_items": null,
            "align_self": null,
            "border": null,
            "bottom": null,
            "display": null,
            "flex": null,
            "flex_flow": null,
            "grid_area": null,
            "grid_auto_columns": null,
            "grid_auto_flow": null,
            "grid_auto_rows": null,
            "grid_column": null,
            "grid_gap": null,
            "grid_row": null,
            "grid_template_areas": null,
            "grid_template_columns": null,
            "grid_template_rows": null,
            "height": null,
            "justify_content": null,
            "justify_items": null,
            "left": null,
            "margin": null,
            "max_height": null,
            "max_width": null,
            "min_height": null,
            "min_width": null,
            "object_fit": null,
            "object_position": null,
            "order": null,
            "overflow": null,
            "overflow_x": null,
            "overflow_y": null,
            "padding": null,
            "right": null,
            "top": null,
            "visibility": null,
            "width": null
          }
        },
        "28507eb95a79473a8eb5e218ffe21541": {
          "model_module": "@jupyter-widgets/controls",
          "model_name": "ProgressStyleModel",
          "model_module_version": "1.5.0",
          "state": {
            "_model_module": "@jupyter-widgets/controls",
            "_model_module_version": "1.5.0",
            "_model_name": "ProgressStyleModel",
            "_view_count": null,
            "_view_module": "@jupyter-widgets/base",
            "_view_module_version": "1.2.0",
            "_view_name": "StyleView",
            "bar_color": null,
            "description_width": ""
          }
        },
        "834d74a4e89c441983f573a4572f80ca": {
          "model_module": "@jupyter-widgets/base",
          "model_name": "LayoutModel",
          "model_module_version": "1.2.0",
          "state": {
            "_model_module": "@jupyter-widgets/base",
            "_model_module_version": "1.2.0",
            "_model_name": "LayoutModel",
            "_view_count": null,
            "_view_module": "@jupyter-widgets/base",
            "_view_module_version": "1.2.0",
            "_view_name": "LayoutView",
            "align_content": null,
            "align_items": null,
            "align_self": null,
            "border": null,
            "bottom": null,
            "display": null,
            "flex": null,
            "flex_flow": null,
            "grid_area": null,
            "grid_auto_columns": null,
            "grid_auto_flow": null,
            "grid_auto_rows": null,
            "grid_column": null,
            "grid_gap": null,
            "grid_row": null,
            "grid_template_areas": null,
            "grid_template_columns": null,
            "grid_template_rows": null,
            "height": null,
            "justify_content": null,
            "justify_items": null,
            "left": null,
            "margin": null,
            "max_height": null,
            "max_width": null,
            "min_height": null,
            "min_width": null,
            "object_fit": null,
            "object_position": null,
            "order": null,
            "overflow": null,
            "overflow_x": null,
            "overflow_y": null,
            "padding": null,
            "right": null,
            "top": null,
            "visibility": null,
            "width": null
          }
        },
        "e668db303eff4f778d61b321cca416a1": {
          "model_module": "@jupyter-widgets/controls",
          "model_name": "DescriptionStyleModel",
          "model_module_version": "1.5.0",
          "state": {
            "_model_module": "@jupyter-widgets/controls",
            "_model_module_version": "1.5.0",
            "_model_name": "DescriptionStyleModel",
            "_view_count": null,
            "_view_module": "@jupyter-widgets/base",
            "_view_module_version": "1.2.0",
            "_view_name": "StyleView",
            "description_width": ""
          }
        },
        "de32fd0fa7c34e8da2b596dd9a61cb9b": {
          "model_module": "@jupyter-widgets/controls",
          "model_name": "HBoxModel",
          "model_module_version": "1.5.0",
          "state": {
            "_dom_classes": [],
            "_model_module": "@jupyter-widgets/controls",
            "_model_module_version": "1.5.0",
            "_model_name": "HBoxModel",
            "_view_count": null,
            "_view_module": "@jupyter-widgets/controls",
            "_view_module_version": "1.5.0",
            "_view_name": "HBoxView",
            "box_style": "",
            "children": [
              "IPY_MODEL_21777ba0e9e54ed0982b2c4e4f391005",
              "IPY_MODEL_e35050d6d16b458a9d7be3d627e5b6a9",
              "IPY_MODEL_f680e56864ac4f3b9b84f6a3f07e31a9"
            ],
            "layout": "IPY_MODEL_b57b46ef9fed4eebade8eee8621964fe"
          }
        },
        "21777ba0e9e54ed0982b2c4e4f391005": {
          "model_module": "@jupyter-widgets/controls",
          "model_name": "HTMLModel",
          "model_module_version": "1.5.0",
          "state": {
            "_dom_classes": [],
            "_model_module": "@jupyter-widgets/controls",
            "_model_module_version": "1.5.0",
            "_model_name": "HTMLModel",
            "_view_count": null,
            "_view_module": "@jupyter-widgets/controls",
            "_view_module_version": "1.5.0",
            "_view_name": "HTMLView",
            "description": "",
            "description_tooltip": null,
            "layout": "IPY_MODEL_6d9a9e0f10fd4fb2b71a5f183a5f11c9",
            "placeholder": "​",
            "style": "IPY_MODEL_92e24250dd0f402aa2948df13a171ebb",
            "value": "model.safetensors: 100%"
          }
        },
        "e35050d6d16b458a9d7be3d627e5b6a9": {
          "model_module": "@jupyter-widgets/controls",
          "model_name": "FloatProgressModel",
          "model_module_version": "1.5.0",
          "state": {
            "_dom_classes": [],
            "_model_module": "@jupyter-widgets/controls",
            "_model_module_version": "1.5.0",
            "_model_name": "FloatProgressModel",
            "_view_count": null,
            "_view_module": "@jupyter-widgets/controls",
            "_view_module_version": "1.5.0",
            "_view_name": "ProgressView",
            "bar_style": "success",
            "description": "",
            "description_tooltip": null,
            "layout": "IPY_MODEL_0754ba79040f41169962b2575ff3e289",
            "max": 267954768,
            "min": 0,
            "orientation": "horizontal",
            "style": "IPY_MODEL_e679981e30ec4328b8097c70a0517b1b",
            "value": 267954768
          }
        },
        "f680e56864ac4f3b9b84f6a3f07e31a9": {
          "model_module": "@jupyter-widgets/controls",
          "model_name": "HTMLModel",
          "model_module_version": "1.5.0",
          "state": {
            "_dom_classes": [],
            "_model_module": "@jupyter-widgets/controls",
            "_model_module_version": "1.5.0",
            "_model_name": "HTMLModel",
            "_view_count": null,
            "_view_module": "@jupyter-widgets/controls",
            "_view_module_version": "1.5.0",
            "_view_name": "HTMLView",
            "description": "",
            "description_tooltip": null,
            "layout": "IPY_MODEL_cfb31b1e95c04d18964cf0f6c3489416",
            "placeholder": "​",
            "style": "IPY_MODEL_0f32775fdb3948baa758cbf8b5457543",
            "value": " 268M/268M [00:03&lt;00:00, 214MB/s]"
          }
        },
        "b57b46ef9fed4eebade8eee8621964fe": {
          "model_module": "@jupyter-widgets/base",
          "model_name": "LayoutModel",
          "model_module_version": "1.2.0",
          "state": {
            "_model_module": "@jupyter-widgets/base",
            "_model_module_version": "1.2.0",
            "_model_name": "LayoutModel",
            "_view_count": null,
            "_view_module": "@jupyter-widgets/base",
            "_view_module_version": "1.2.0",
            "_view_name": "LayoutView",
            "align_content": null,
            "align_items": null,
            "align_self": null,
            "border": null,
            "bottom": null,
            "display": null,
            "flex": null,
            "flex_flow": null,
            "grid_area": null,
            "grid_auto_columns": null,
            "grid_auto_flow": null,
            "grid_auto_rows": null,
            "grid_column": null,
            "grid_gap": null,
            "grid_row": null,
            "grid_template_areas": null,
            "grid_template_columns": null,
            "grid_template_rows": null,
            "height": null,
            "justify_content": null,
            "justify_items": null,
            "left": null,
            "margin": null,
            "max_height": null,
            "max_width": null,
            "min_height": null,
            "min_width": null,
            "object_fit": null,
            "object_position": null,
            "order": null,
            "overflow": null,
            "overflow_x": null,
            "overflow_y": null,
            "padding": null,
            "right": null,
            "top": null,
            "visibility": null,
            "width": null
          }
        },
        "6d9a9e0f10fd4fb2b71a5f183a5f11c9": {
          "model_module": "@jupyter-widgets/base",
          "model_name": "LayoutModel",
          "model_module_version": "1.2.0",
          "state": {
            "_model_module": "@jupyter-widgets/base",
            "_model_module_version": "1.2.0",
            "_model_name": "LayoutModel",
            "_view_count": null,
            "_view_module": "@jupyter-widgets/base",
            "_view_module_version": "1.2.0",
            "_view_name": "LayoutView",
            "align_content": null,
            "align_items": null,
            "align_self": null,
            "border": null,
            "bottom": null,
            "display": null,
            "flex": null,
            "flex_flow": null,
            "grid_area": null,
            "grid_auto_columns": null,
            "grid_auto_flow": null,
            "grid_auto_rows": null,
            "grid_column": null,
            "grid_gap": null,
            "grid_row": null,
            "grid_template_areas": null,
            "grid_template_columns": null,
            "grid_template_rows": null,
            "height": null,
            "justify_content": null,
            "justify_items": null,
            "left": null,
            "margin": null,
            "max_height": null,
            "max_width": null,
            "min_height": null,
            "min_width": null,
            "object_fit": null,
            "object_position": null,
            "order": null,
            "overflow": null,
            "overflow_x": null,
            "overflow_y": null,
            "padding": null,
            "right": null,
            "top": null,
            "visibility": null,
            "width": null
          }
        },
        "92e24250dd0f402aa2948df13a171ebb": {
          "model_module": "@jupyter-widgets/controls",
          "model_name": "DescriptionStyleModel",
          "model_module_version": "1.5.0",
          "state": {
            "_model_module": "@jupyter-widgets/controls",
            "_model_module_version": "1.5.0",
            "_model_name": "DescriptionStyleModel",
            "_view_count": null,
            "_view_module": "@jupyter-widgets/base",
            "_view_module_version": "1.2.0",
            "_view_name": "StyleView",
            "description_width": ""
          }
        },
        "0754ba79040f41169962b2575ff3e289": {
          "model_module": "@jupyter-widgets/base",
          "model_name": "LayoutModel",
          "model_module_version": "1.2.0",
          "state": {
            "_model_module": "@jupyter-widgets/base",
            "_model_module_version": "1.2.0",
            "_model_name": "LayoutModel",
            "_view_count": null,
            "_view_module": "@jupyter-widgets/base",
            "_view_module_version": "1.2.0",
            "_view_name": "LayoutView",
            "align_content": null,
            "align_items": null,
            "align_self": null,
            "border": null,
            "bottom": null,
            "display": null,
            "flex": null,
            "flex_flow": null,
            "grid_area": null,
            "grid_auto_columns": null,
            "grid_auto_flow": null,
            "grid_auto_rows": null,
            "grid_column": null,
            "grid_gap": null,
            "grid_row": null,
            "grid_template_areas": null,
            "grid_template_columns": null,
            "grid_template_rows": null,
            "height": null,
            "justify_content": null,
            "justify_items": null,
            "left": null,
            "margin": null,
            "max_height": null,
            "max_width": null,
            "min_height": null,
            "min_width": null,
            "object_fit": null,
            "object_position": null,
            "order": null,
            "overflow": null,
            "overflow_x": null,
            "overflow_y": null,
            "padding": null,
            "right": null,
            "top": null,
            "visibility": null,
            "width": null
          }
        },
        "e679981e30ec4328b8097c70a0517b1b": {
          "model_module": "@jupyter-widgets/controls",
          "model_name": "ProgressStyleModel",
          "model_module_version": "1.5.0",
          "state": {
            "_model_module": "@jupyter-widgets/controls",
            "_model_module_version": "1.5.0",
            "_model_name": "ProgressStyleModel",
            "_view_count": null,
            "_view_module": "@jupyter-widgets/base",
            "_view_module_version": "1.2.0",
            "_view_name": "StyleView",
            "bar_color": null,
            "description_width": ""
          }
        },
        "cfb31b1e95c04d18964cf0f6c3489416": {
          "model_module": "@jupyter-widgets/base",
          "model_name": "LayoutModel",
          "model_module_version": "1.2.0",
          "state": {
            "_model_module": "@jupyter-widgets/base",
            "_model_module_version": "1.2.0",
            "_model_name": "LayoutModel",
            "_view_count": null,
            "_view_module": "@jupyter-widgets/base",
            "_view_module_version": "1.2.0",
            "_view_name": "LayoutView",
            "align_content": null,
            "align_items": null,
            "align_self": null,
            "border": null,
            "bottom": null,
            "display": null,
            "flex": null,
            "flex_flow": null,
            "grid_area": null,
            "grid_auto_columns": null,
            "grid_auto_flow": null,
            "grid_auto_rows": null,
            "grid_column": null,
            "grid_gap": null,
            "grid_row": null,
            "grid_template_areas": null,
            "grid_template_columns": null,
            "grid_template_rows": null,
            "height": null,
            "justify_content": null,
            "justify_items": null,
            "left": null,
            "margin": null,
            "max_height": null,
            "max_width": null,
            "min_height": null,
            "min_width": null,
            "object_fit": null,
            "object_position": null,
            "order": null,
            "overflow": null,
            "overflow_x": null,
            "overflow_y": null,
            "padding": null,
            "right": null,
            "top": null,
            "visibility": null,
            "width": null
          }
        },
        "0f32775fdb3948baa758cbf8b5457543": {
          "model_module": "@jupyter-widgets/controls",
          "model_name": "DescriptionStyleModel",
          "model_module_version": "1.5.0",
          "state": {
            "_model_module": "@jupyter-widgets/controls",
            "_model_module_version": "1.5.0",
            "_model_name": "DescriptionStyleModel",
            "_view_count": null,
            "_view_module": "@jupyter-widgets/base",
            "_view_module_version": "1.2.0",
            "_view_name": "StyleView",
            "description_width": ""
          }
        },
        "c3a6c9b499e74cf985873b46e501c39c": {
          "model_module": "@jupyter-widgets/controls",
          "model_name": "HBoxModel",
          "model_module_version": "1.5.0",
          "state": {
            "_dom_classes": [],
            "_model_module": "@jupyter-widgets/controls",
            "_model_module_version": "1.5.0",
            "_model_name": "HBoxModel",
            "_view_count": null,
            "_view_module": "@jupyter-widgets/controls",
            "_view_module_version": "1.5.0",
            "_view_name": "HBoxView",
            "box_style": "",
            "children": [
              "IPY_MODEL_bb848600d86847b89a1a0012c79903bf",
              "IPY_MODEL_e55ba38cbeb74205a57cc3577e2af9cb",
              "IPY_MODEL_a7e644e6befa47b89c58ec1d7b640944"
            ],
            "layout": "IPY_MODEL_f35e5f588b734dfd934773f10bd19f9a"
          }
        },
        "bb848600d86847b89a1a0012c79903bf": {
          "model_module": "@jupyter-widgets/controls",
          "model_name": "HTMLModel",
          "model_module_version": "1.5.0",
          "state": {
            "_dom_classes": [],
            "_model_module": "@jupyter-widgets/controls",
            "_model_module_version": "1.5.0",
            "_model_name": "HTMLModel",
            "_view_count": null,
            "_view_module": "@jupyter-widgets/controls",
            "_view_module_version": "1.5.0",
            "_view_name": "HTMLView",
            "description": "",
            "description_tooltip": null,
            "layout": "IPY_MODEL_799ef9cbff6a42b0a5c7506d4311b8cc",
            "placeholder": "​",
            "style": "IPY_MODEL_b78f102dd96842e8ab536cca080a1423",
            "value": "tokenizer_config.json: 100%"
          }
        },
        "e55ba38cbeb74205a57cc3577e2af9cb": {
          "model_module": "@jupyter-widgets/controls",
          "model_name": "FloatProgressModel",
          "model_module_version": "1.5.0",
          "state": {
            "_dom_classes": [],
            "_model_module": "@jupyter-widgets/controls",
            "_model_module_version": "1.5.0",
            "_model_name": "FloatProgressModel",
            "_view_count": null,
            "_view_module": "@jupyter-widgets/controls",
            "_view_module_version": "1.5.0",
            "_view_name": "ProgressView",
            "bar_style": "success",
            "description": "",
            "description_tooltip": null,
            "layout": "IPY_MODEL_177228fbaad845b38f36807af7cc8e97",
            "max": 28,
            "min": 0,
            "orientation": "horizontal",
            "style": "IPY_MODEL_066263d9bb834f83b9d5e4e30fd9b3ca",
            "value": 28
          }
        },
        "a7e644e6befa47b89c58ec1d7b640944": {
          "model_module": "@jupyter-widgets/controls",
          "model_name": "HTMLModel",
          "model_module_version": "1.5.0",
          "state": {
            "_dom_classes": [],
            "_model_module": "@jupyter-widgets/controls",
            "_model_module_version": "1.5.0",
            "_model_name": "HTMLModel",
            "_view_count": null,
            "_view_module": "@jupyter-widgets/controls",
            "_view_module_version": "1.5.0",
            "_view_name": "HTMLView",
            "description": "",
            "description_tooltip": null,
            "layout": "IPY_MODEL_ccacd23b941741cbbce0cde80f2ecf14",
            "placeholder": "​",
            "style": "IPY_MODEL_67f5299cbbf54366a52a6e58292e75dd",
            "value": " 28.0/28.0 [00:00&lt;00:00, 1.91kB/s]"
          }
        },
        "f35e5f588b734dfd934773f10bd19f9a": {
          "model_module": "@jupyter-widgets/base",
          "model_name": "LayoutModel",
          "model_module_version": "1.2.0",
          "state": {
            "_model_module": "@jupyter-widgets/base",
            "_model_module_version": "1.2.0",
            "_model_name": "LayoutModel",
            "_view_count": null,
            "_view_module": "@jupyter-widgets/base",
            "_view_module_version": "1.2.0",
            "_view_name": "LayoutView",
            "align_content": null,
            "align_items": null,
            "align_self": null,
            "border": null,
            "bottom": null,
            "display": null,
            "flex": null,
            "flex_flow": null,
            "grid_area": null,
            "grid_auto_columns": null,
            "grid_auto_flow": null,
            "grid_auto_rows": null,
            "grid_column": null,
            "grid_gap": null,
            "grid_row": null,
            "grid_template_areas": null,
            "grid_template_columns": null,
            "grid_template_rows": null,
            "height": null,
            "justify_content": null,
            "justify_items": null,
            "left": null,
            "margin": null,
            "max_height": null,
            "max_width": null,
            "min_height": null,
            "min_width": null,
            "object_fit": null,
            "object_position": null,
            "order": null,
            "overflow": null,
            "overflow_x": null,
            "overflow_y": null,
            "padding": null,
            "right": null,
            "top": null,
            "visibility": null,
            "width": null
          }
        },
        "799ef9cbff6a42b0a5c7506d4311b8cc": {
          "model_module": "@jupyter-widgets/base",
          "model_name": "LayoutModel",
          "model_module_version": "1.2.0",
          "state": {
            "_model_module": "@jupyter-widgets/base",
            "_model_module_version": "1.2.0",
            "_model_name": "LayoutModel",
            "_view_count": null,
            "_view_module": "@jupyter-widgets/base",
            "_view_module_version": "1.2.0",
            "_view_name": "LayoutView",
            "align_content": null,
            "align_items": null,
            "align_self": null,
            "border": null,
            "bottom": null,
            "display": null,
            "flex": null,
            "flex_flow": null,
            "grid_area": null,
            "grid_auto_columns": null,
            "grid_auto_flow": null,
            "grid_auto_rows": null,
            "grid_column": null,
            "grid_gap": null,
            "grid_row": null,
            "grid_template_areas": null,
            "grid_template_columns": null,
            "grid_template_rows": null,
            "height": null,
            "justify_content": null,
            "justify_items": null,
            "left": null,
            "margin": null,
            "max_height": null,
            "max_width": null,
            "min_height": null,
            "min_width": null,
            "object_fit": null,
            "object_position": null,
            "order": null,
            "overflow": null,
            "overflow_x": null,
            "overflow_y": null,
            "padding": null,
            "right": null,
            "top": null,
            "visibility": null,
            "width": null
          }
        },
        "b78f102dd96842e8ab536cca080a1423": {
          "model_module": "@jupyter-widgets/controls",
          "model_name": "DescriptionStyleModel",
          "model_module_version": "1.5.0",
          "state": {
            "_model_module": "@jupyter-widgets/controls",
            "_model_module_version": "1.5.0",
            "_model_name": "DescriptionStyleModel",
            "_view_count": null,
            "_view_module": "@jupyter-widgets/base",
            "_view_module_version": "1.2.0",
            "_view_name": "StyleView",
            "description_width": ""
          }
        },
        "177228fbaad845b38f36807af7cc8e97": {
          "model_module": "@jupyter-widgets/base",
          "model_name": "LayoutModel",
          "model_module_version": "1.2.0",
          "state": {
            "_model_module": "@jupyter-widgets/base",
            "_model_module_version": "1.2.0",
            "_model_name": "LayoutModel",
            "_view_count": null,
            "_view_module": "@jupyter-widgets/base",
            "_view_module_version": "1.2.0",
            "_view_name": "LayoutView",
            "align_content": null,
            "align_items": null,
            "align_self": null,
            "border": null,
            "bottom": null,
            "display": null,
            "flex": null,
            "flex_flow": null,
            "grid_area": null,
            "grid_auto_columns": null,
            "grid_auto_flow": null,
            "grid_auto_rows": null,
            "grid_column": null,
            "grid_gap": null,
            "grid_row": null,
            "grid_template_areas": null,
            "grid_template_columns": null,
            "grid_template_rows": null,
            "height": null,
            "justify_content": null,
            "justify_items": null,
            "left": null,
            "margin": null,
            "max_height": null,
            "max_width": null,
            "min_height": null,
            "min_width": null,
            "object_fit": null,
            "object_position": null,
            "order": null,
            "overflow": null,
            "overflow_x": null,
            "overflow_y": null,
            "padding": null,
            "right": null,
            "top": null,
            "visibility": null,
            "width": null
          }
        },
        "066263d9bb834f83b9d5e4e30fd9b3ca": {
          "model_module": "@jupyter-widgets/controls",
          "model_name": "ProgressStyleModel",
          "model_module_version": "1.5.0",
          "state": {
            "_model_module": "@jupyter-widgets/controls",
            "_model_module_version": "1.5.0",
            "_model_name": "ProgressStyleModel",
            "_view_count": null,
            "_view_module": "@jupyter-widgets/base",
            "_view_module_version": "1.2.0",
            "_view_name": "StyleView",
            "bar_color": null,
            "description_width": ""
          }
        },
        "ccacd23b941741cbbce0cde80f2ecf14": {
          "model_module": "@jupyter-widgets/base",
          "model_name": "LayoutModel",
          "model_module_version": "1.2.0",
          "state": {
            "_model_module": "@jupyter-widgets/base",
            "_model_module_version": "1.2.0",
            "_model_name": "LayoutModel",
            "_view_count": null,
            "_view_module": "@jupyter-widgets/base",
            "_view_module_version": "1.2.0",
            "_view_name": "LayoutView",
            "align_content": null,
            "align_items": null,
            "align_self": null,
            "border": null,
            "bottom": null,
            "display": null,
            "flex": null,
            "flex_flow": null,
            "grid_area": null,
            "grid_auto_columns": null,
            "grid_auto_flow": null,
            "grid_auto_rows": null,
            "grid_column": null,
            "grid_gap": null,
            "grid_row": null,
            "grid_template_areas": null,
            "grid_template_columns": null,
            "grid_template_rows": null,
            "height": null,
            "justify_content": null,
            "justify_items": null,
            "left": null,
            "margin": null,
            "max_height": null,
            "max_width": null,
            "min_height": null,
            "min_width": null,
            "object_fit": null,
            "object_position": null,
            "order": null,
            "overflow": null,
            "overflow_x": null,
            "overflow_y": null,
            "padding": null,
            "right": null,
            "top": null,
            "visibility": null,
            "width": null
          }
        },
        "67f5299cbbf54366a52a6e58292e75dd": {
          "model_module": "@jupyter-widgets/controls",
          "model_name": "DescriptionStyleModel",
          "model_module_version": "1.5.0",
          "state": {
            "_model_module": "@jupyter-widgets/controls",
            "_model_module_version": "1.5.0",
            "_model_name": "DescriptionStyleModel",
            "_view_count": null,
            "_view_module": "@jupyter-widgets/base",
            "_view_module_version": "1.2.0",
            "_view_name": "StyleView",
            "description_width": ""
          }
        },
        "6ad877266c374de2a51005632e5c2f25": {
          "model_module": "@jupyter-widgets/controls",
          "model_name": "HBoxModel",
          "model_module_version": "1.5.0",
          "state": {
            "_dom_classes": [],
            "_model_module": "@jupyter-widgets/controls",
            "_model_module_version": "1.5.0",
            "_model_name": "HBoxModel",
            "_view_count": null,
            "_view_module": "@jupyter-widgets/controls",
            "_view_module_version": "1.5.0",
            "_view_name": "HBoxView",
            "box_style": "",
            "children": [
              "IPY_MODEL_bb76c76a3b4b442daa493b2f095ee5ce",
              "IPY_MODEL_f9a01e1ad1604e69832e18b162e90313",
              "IPY_MODEL_e1e2665d3eb144b8ab01687ee6b6dfca"
            ],
            "layout": "IPY_MODEL_b9e524b0da114be1b27384d071872f3f"
          }
        },
        "bb76c76a3b4b442daa493b2f095ee5ce": {
          "model_module": "@jupyter-widgets/controls",
          "model_name": "HTMLModel",
          "model_module_version": "1.5.0",
          "state": {
            "_dom_classes": [],
            "_model_module": "@jupyter-widgets/controls",
            "_model_module_version": "1.5.0",
            "_model_name": "HTMLModel",
            "_view_count": null,
            "_view_module": "@jupyter-widgets/controls",
            "_view_module_version": "1.5.0",
            "_view_name": "HTMLView",
            "description": "",
            "description_tooltip": null,
            "layout": "IPY_MODEL_efec0a66c6ff4f718999bf533bf5c9c9",
            "placeholder": "​",
            "style": "IPY_MODEL_89c3a52164644b7d847b61f06ddf3289",
            "value": "vocab.txt: 100%"
          }
        },
        "f9a01e1ad1604e69832e18b162e90313": {
          "model_module": "@jupyter-widgets/controls",
          "model_name": "FloatProgressModel",
          "model_module_version": "1.5.0",
          "state": {
            "_dom_classes": [],
            "_model_module": "@jupyter-widgets/controls",
            "_model_module_version": "1.5.0",
            "_model_name": "FloatProgressModel",
            "_view_count": null,
            "_view_module": "@jupyter-widgets/controls",
            "_view_module_version": "1.5.0",
            "_view_name": "ProgressView",
            "bar_style": "success",
            "description": "",
            "description_tooltip": null,
            "layout": "IPY_MODEL_891a293ffdfe42c89e2a6f1af9ed0915",
            "max": 231508,
            "min": 0,
            "orientation": "horizontal",
            "style": "IPY_MODEL_e74a8e6ff56549ed9142414b791ea29c",
            "value": 231508
          }
        },
        "e1e2665d3eb144b8ab01687ee6b6dfca": {
          "model_module": "@jupyter-widgets/controls",
          "model_name": "HTMLModel",
          "model_module_version": "1.5.0",
          "state": {
            "_dom_classes": [],
            "_model_module": "@jupyter-widgets/controls",
            "_model_module_version": "1.5.0",
            "_model_name": "HTMLModel",
            "_view_count": null,
            "_view_module": "@jupyter-widgets/controls",
            "_view_module_version": "1.5.0",
            "_view_name": "HTMLView",
            "description": "",
            "description_tooltip": null,
            "layout": "IPY_MODEL_f41a4be8fbfc4ad093ec3cf8b97a8a7e",
            "placeholder": "​",
            "style": "IPY_MODEL_905de6751fa640f09d47438fe399261b",
            "value": " 232k/232k [00:00&lt;00:00, 1.69MB/s]"
          }
        },
        "b9e524b0da114be1b27384d071872f3f": {
          "model_module": "@jupyter-widgets/base",
          "model_name": "LayoutModel",
          "model_module_version": "1.2.0",
          "state": {
            "_model_module": "@jupyter-widgets/base",
            "_model_module_version": "1.2.0",
            "_model_name": "LayoutModel",
            "_view_count": null,
            "_view_module": "@jupyter-widgets/base",
            "_view_module_version": "1.2.0",
            "_view_name": "LayoutView",
            "align_content": null,
            "align_items": null,
            "align_self": null,
            "border": null,
            "bottom": null,
            "display": null,
            "flex": null,
            "flex_flow": null,
            "grid_area": null,
            "grid_auto_columns": null,
            "grid_auto_flow": null,
            "grid_auto_rows": null,
            "grid_column": null,
            "grid_gap": null,
            "grid_row": null,
            "grid_template_areas": null,
            "grid_template_columns": null,
            "grid_template_rows": null,
            "height": null,
            "justify_content": null,
            "justify_items": null,
            "left": null,
            "margin": null,
            "max_height": null,
            "max_width": null,
            "min_height": null,
            "min_width": null,
            "object_fit": null,
            "object_position": null,
            "order": null,
            "overflow": null,
            "overflow_x": null,
            "overflow_y": null,
            "padding": null,
            "right": null,
            "top": null,
            "visibility": null,
            "width": null
          }
        },
        "efec0a66c6ff4f718999bf533bf5c9c9": {
          "model_module": "@jupyter-widgets/base",
          "model_name": "LayoutModel",
          "model_module_version": "1.2.0",
          "state": {
            "_model_module": "@jupyter-widgets/base",
            "_model_module_version": "1.2.0",
            "_model_name": "LayoutModel",
            "_view_count": null,
            "_view_module": "@jupyter-widgets/base",
            "_view_module_version": "1.2.0",
            "_view_name": "LayoutView",
            "align_content": null,
            "align_items": null,
            "align_self": null,
            "border": null,
            "bottom": null,
            "display": null,
            "flex": null,
            "flex_flow": null,
            "grid_area": null,
            "grid_auto_columns": null,
            "grid_auto_flow": null,
            "grid_auto_rows": null,
            "grid_column": null,
            "grid_gap": null,
            "grid_row": null,
            "grid_template_areas": null,
            "grid_template_columns": null,
            "grid_template_rows": null,
            "height": null,
            "justify_content": null,
            "justify_items": null,
            "left": null,
            "margin": null,
            "max_height": null,
            "max_width": null,
            "min_height": null,
            "min_width": null,
            "object_fit": null,
            "object_position": null,
            "order": null,
            "overflow": null,
            "overflow_x": null,
            "overflow_y": null,
            "padding": null,
            "right": null,
            "top": null,
            "visibility": null,
            "width": null
          }
        },
        "89c3a52164644b7d847b61f06ddf3289": {
          "model_module": "@jupyter-widgets/controls",
          "model_name": "DescriptionStyleModel",
          "model_module_version": "1.5.0",
          "state": {
            "_model_module": "@jupyter-widgets/controls",
            "_model_module_version": "1.5.0",
            "_model_name": "DescriptionStyleModel",
            "_view_count": null,
            "_view_module": "@jupyter-widgets/base",
            "_view_module_version": "1.2.0",
            "_view_name": "StyleView",
            "description_width": ""
          }
        },
        "891a293ffdfe42c89e2a6f1af9ed0915": {
          "model_module": "@jupyter-widgets/base",
          "model_name": "LayoutModel",
          "model_module_version": "1.2.0",
          "state": {
            "_model_module": "@jupyter-widgets/base",
            "_model_module_version": "1.2.0",
            "_model_name": "LayoutModel",
            "_view_count": null,
            "_view_module": "@jupyter-widgets/base",
            "_view_module_version": "1.2.0",
            "_view_name": "LayoutView",
            "align_content": null,
            "align_items": null,
            "align_self": null,
            "border": null,
            "bottom": null,
            "display": null,
            "flex": null,
            "flex_flow": null,
            "grid_area": null,
            "grid_auto_columns": null,
            "grid_auto_flow": null,
            "grid_auto_rows": null,
            "grid_column": null,
            "grid_gap": null,
            "grid_row": null,
            "grid_template_areas": null,
            "grid_template_columns": null,
            "grid_template_rows": null,
            "height": null,
            "justify_content": null,
            "justify_items": null,
            "left": null,
            "margin": null,
            "max_height": null,
            "max_width": null,
            "min_height": null,
            "min_width": null,
            "object_fit": null,
            "object_position": null,
            "order": null,
            "overflow": null,
            "overflow_x": null,
            "overflow_y": null,
            "padding": null,
            "right": null,
            "top": null,
            "visibility": null,
            "width": null
          }
        },
        "e74a8e6ff56549ed9142414b791ea29c": {
          "model_module": "@jupyter-widgets/controls",
          "model_name": "ProgressStyleModel",
          "model_module_version": "1.5.0",
          "state": {
            "_model_module": "@jupyter-widgets/controls",
            "_model_module_version": "1.5.0",
            "_model_name": "ProgressStyleModel",
            "_view_count": null,
            "_view_module": "@jupyter-widgets/base",
            "_view_module_version": "1.2.0",
            "_view_name": "StyleView",
            "bar_color": null,
            "description_width": ""
          }
        },
        "f41a4be8fbfc4ad093ec3cf8b97a8a7e": {
          "model_module": "@jupyter-widgets/base",
          "model_name": "LayoutModel",
          "model_module_version": "1.2.0",
          "state": {
            "_model_module": "@jupyter-widgets/base",
            "_model_module_version": "1.2.0",
            "_model_name": "LayoutModel",
            "_view_count": null,
            "_view_module": "@jupyter-widgets/base",
            "_view_module_version": "1.2.0",
            "_view_name": "LayoutView",
            "align_content": null,
            "align_items": null,
            "align_self": null,
            "border": null,
            "bottom": null,
            "display": null,
            "flex": null,
            "flex_flow": null,
            "grid_area": null,
            "grid_auto_columns": null,
            "grid_auto_flow": null,
            "grid_auto_rows": null,
            "grid_column": null,
            "grid_gap": null,
            "grid_row": null,
            "grid_template_areas": null,
            "grid_template_columns": null,
            "grid_template_rows": null,
            "height": null,
            "justify_content": null,
            "justify_items": null,
            "left": null,
            "margin": null,
            "max_height": null,
            "max_width": null,
            "min_height": null,
            "min_width": null,
            "object_fit": null,
            "object_position": null,
            "order": null,
            "overflow": null,
            "overflow_x": null,
            "overflow_y": null,
            "padding": null,
            "right": null,
            "top": null,
            "visibility": null,
            "width": null
          }
        },
        "905de6751fa640f09d47438fe399261b": {
          "model_module": "@jupyter-widgets/controls",
          "model_name": "DescriptionStyleModel",
          "model_module_version": "1.5.0",
          "state": {
            "_model_module": "@jupyter-widgets/controls",
            "_model_module_version": "1.5.0",
            "_model_name": "DescriptionStyleModel",
            "_view_count": null,
            "_view_module": "@jupyter-widgets/base",
            "_view_module_version": "1.2.0",
            "_view_name": "StyleView",
            "description_width": ""
          }
        },
        "cafe2ee6a4874a2398f3a826e403cad4": {
          "model_module": "@jupyter-widgets/controls",
          "model_name": "HBoxModel",
          "model_module_version": "1.5.0",
          "state": {
            "_dom_classes": [],
            "_model_module": "@jupyter-widgets/controls",
            "_model_module_version": "1.5.0",
            "_model_name": "HBoxModel",
            "_view_count": null,
            "_view_module": "@jupyter-widgets/controls",
            "_view_module_version": "1.5.0",
            "_view_name": "HBoxView",
            "box_style": "",
            "children": [
              "IPY_MODEL_c352a59f0b9047f7a718ccbaa59ab4a5",
              "IPY_MODEL_c159f660e84a460d869bd58c1aec7188",
              "IPY_MODEL_bc37cdc6bf90445e830aa211937a0e25"
            ],
            "layout": "IPY_MODEL_36fc0b41a2664e6cb782639acfe30401"
          }
        },
        "c352a59f0b9047f7a718ccbaa59ab4a5": {
          "model_module": "@jupyter-widgets/controls",
          "model_name": "HTMLModel",
          "model_module_version": "1.5.0",
          "state": {
            "_dom_classes": [],
            "_model_module": "@jupyter-widgets/controls",
            "_model_module_version": "1.5.0",
            "_model_name": "HTMLModel",
            "_view_count": null,
            "_view_module": "@jupyter-widgets/controls",
            "_view_module_version": "1.5.0",
            "_view_name": "HTMLView",
            "description": "",
            "description_tooltip": null,
            "layout": "IPY_MODEL_dadb72fdec8c46cc80ffd9f70b8cdba5",
            "placeholder": "​",
            "style": "IPY_MODEL_7521dc892be44c5b8b99500d8e987adc",
            "value": "tokenizer.json: 100%"
          }
        },
        "c159f660e84a460d869bd58c1aec7188": {
          "model_module": "@jupyter-widgets/controls",
          "model_name": "FloatProgressModel",
          "model_module_version": "1.5.0",
          "state": {
            "_dom_classes": [],
            "_model_module": "@jupyter-widgets/controls",
            "_model_module_version": "1.5.0",
            "_model_name": "FloatProgressModel",
            "_view_count": null,
            "_view_module": "@jupyter-widgets/controls",
            "_view_module_version": "1.5.0",
            "_view_name": "ProgressView",
            "bar_style": "success",
            "description": "",
            "description_tooltip": null,
            "layout": "IPY_MODEL_2b1fcc5feef04a5d863745be06850769",
            "max": 466062,
            "min": 0,
            "orientation": "horizontal",
            "style": "IPY_MODEL_943ee0a654a9440b8fc97db6ad554292",
            "value": 466062
          }
        },
        "bc37cdc6bf90445e830aa211937a0e25": {
          "model_module": "@jupyter-widgets/controls",
          "model_name": "HTMLModel",
          "model_module_version": "1.5.0",
          "state": {
            "_dom_classes": [],
            "_model_module": "@jupyter-widgets/controls",
            "_model_module_version": "1.5.0",
            "_model_name": "HTMLModel",
            "_view_count": null,
            "_view_module": "@jupyter-widgets/controls",
            "_view_module_version": "1.5.0",
            "_view_name": "HTMLView",
            "description": "",
            "description_tooltip": null,
            "layout": "IPY_MODEL_8eb644dda1cf47b49007d65188715885",
            "placeholder": "​",
            "style": "IPY_MODEL_110a304977884da9886de42017542851",
            "value": " 466k/466k [00:00&lt;00:00, 21.0MB/s]"
          }
        },
        "36fc0b41a2664e6cb782639acfe30401": {
          "model_module": "@jupyter-widgets/base",
          "model_name": "LayoutModel",
          "model_module_version": "1.2.0",
          "state": {
            "_model_module": "@jupyter-widgets/base",
            "_model_module_version": "1.2.0",
            "_model_name": "LayoutModel",
            "_view_count": null,
            "_view_module": "@jupyter-widgets/base",
            "_view_module_version": "1.2.0",
            "_view_name": "LayoutView",
            "align_content": null,
            "align_items": null,
            "align_self": null,
            "border": null,
            "bottom": null,
            "display": null,
            "flex": null,
            "flex_flow": null,
            "grid_area": null,
            "grid_auto_columns": null,
            "grid_auto_flow": null,
            "grid_auto_rows": null,
            "grid_column": null,
            "grid_gap": null,
            "grid_row": null,
            "grid_template_areas": null,
            "grid_template_columns": null,
            "grid_template_rows": null,
            "height": null,
            "justify_content": null,
            "justify_items": null,
            "left": null,
            "margin": null,
            "max_height": null,
            "max_width": null,
            "min_height": null,
            "min_width": null,
            "object_fit": null,
            "object_position": null,
            "order": null,
            "overflow": null,
            "overflow_x": null,
            "overflow_y": null,
            "padding": null,
            "right": null,
            "top": null,
            "visibility": null,
            "width": null
          }
        },
        "dadb72fdec8c46cc80ffd9f70b8cdba5": {
          "model_module": "@jupyter-widgets/base",
          "model_name": "LayoutModel",
          "model_module_version": "1.2.0",
          "state": {
            "_model_module": "@jupyter-widgets/base",
            "_model_module_version": "1.2.0",
            "_model_name": "LayoutModel",
            "_view_count": null,
            "_view_module": "@jupyter-widgets/base",
            "_view_module_version": "1.2.0",
            "_view_name": "LayoutView",
            "align_content": null,
            "align_items": null,
            "align_self": null,
            "border": null,
            "bottom": null,
            "display": null,
            "flex": null,
            "flex_flow": null,
            "grid_area": null,
            "grid_auto_columns": null,
            "grid_auto_flow": null,
            "grid_auto_rows": null,
            "grid_column": null,
            "grid_gap": null,
            "grid_row": null,
            "grid_template_areas": null,
            "grid_template_columns": null,
            "grid_template_rows": null,
            "height": null,
            "justify_content": null,
            "justify_items": null,
            "left": null,
            "margin": null,
            "max_height": null,
            "max_width": null,
            "min_height": null,
            "min_width": null,
            "object_fit": null,
            "object_position": null,
            "order": null,
            "overflow": null,
            "overflow_x": null,
            "overflow_y": null,
            "padding": null,
            "right": null,
            "top": null,
            "visibility": null,
            "width": null
          }
        },
        "7521dc892be44c5b8b99500d8e987adc": {
          "model_module": "@jupyter-widgets/controls",
          "model_name": "DescriptionStyleModel",
          "model_module_version": "1.5.0",
          "state": {
            "_model_module": "@jupyter-widgets/controls",
            "_model_module_version": "1.5.0",
            "_model_name": "DescriptionStyleModel",
            "_view_count": null,
            "_view_module": "@jupyter-widgets/base",
            "_view_module_version": "1.2.0",
            "_view_name": "StyleView",
            "description_width": ""
          }
        },
        "2b1fcc5feef04a5d863745be06850769": {
          "model_module": "@jupyter-widgets/base",
          "model_name": "LayoutModel",
          "model_module_version": "1.2.0",
          "state": {
            "_model_module": "@jupyter-widgets/base",
            "_model_module_version": "1.2.0",
            "_model_name": "LayoutModel",
            "_view_count": null,
            "_view_module": "@jupyter-widgets/base",
            "_view_module_version": "1.2.0",
            "_view_name": "LayoutView",
            "align_content": null,
            "align_items": null,
            "align_self": null,
            "border": null,
            "bottom": null,
            "display": null,
            "flex": null,
            "flex_flow": null,
            "grid_area": null,
            "grid_auto_columns": null,
            "grid_auto_flow": null,
            "grid_auto_rows": null,
            "grid_column": null,
            "grid_gap": null,
            "grid_row": null,
            "grid_template_areas": null,
            "grid_template_columns": null,
            "grid_template_rows": null,
            "height": null,
            "justify_content": null,
            "justify_items": null,
            "left": null,
            "margin": null,
            "max_height": null,
            "max_width": null,
            "min_height": null,
            "min_width": null,
            "object_fit": null,
            "object_position": null,
            "order": null,
            "overflow": null,
            "overflow_x": null,
            "overflow_y": null,
            "padding": null,
            "right": null,
            "top": null,
            "visibility": null,
            "width": null
          }
        },
        "943ee0a654a9440b8fc97db6ad554292": {
          "model_module": "@jupyter-widgets/controls",
          "model_name": "ProgressStyleModel",
          "model_module_version": "1.5.0",
          "state": {
            "_model_module": "@jupyter-widgets/controls",
            "_model_module_version": "1.5.0",
            "_model_name": "ProgressStyleModel",
            "_view_count": null,
            "_view_module": "@jupyter-widgets/base",
            "_view_module_version": "1.2.0",
            "_view_name": "StyleView",
            "bar_color": null,
            "description_width": ""
          }
        },
        "8eb644dda1cf47b49007d65188715885": {
          "model_module": "@jupyter-widgets/base",
          "model_name": "LayoutModel",
          "model_module_version": "1.2.0",
          "state": {
            "_model_module": "@jupyter-widgets/base",
            "_model_module_version": "1.2.0",
            "_model_name": "LayoutModel",
            "_view_count": null,
            "_view_module": "@jupyter-widgets/base",
            "_view_module_version": "1.2.0",
            "_view_name": "LayoutView",
            "align_content": null,
            "align_items": null,
            "align_self": null,
            "border": null,
            "bottom": null,
            "display": null,
            "flex": null,
            "flex_flow": null,
            "grid_area": null,
            "grid_auto_columns": null,
            "grid_auto_flow": null,
            "grid_auto_rows": null,
            "grid_column": null,
            "grid_gap": null,
            "grid_row": null,
            "grid_template_areas": null,
            "grid_template_columns": null,
            "grid_template_rows": null,
            "height": null,
            "justify_content": null,
            "justify_items": null,
            "left": null,
            "margin": null,
            "max_height": null,
            "max_width": null,
            "min_height": null,
            "min_width": null,
            "object_fit": null,
            "object_position": null,
            "order": null,
            "overflow": null,
            "overflow_x": null,
            "overflow_y": null,
            "padding": null,
            "right": null,
            "top": null,
            "visibility": null,
            "width": null
          }
        },
        "110a304977884da9886de42017542851": {
          "model_module": "@jupyter-widgets/controls",
          "model_name": "DescriptionStyleModel",
          "model_module_version": "1.5.0",
          "state": {
            "_model_module": "@jupyter-widgets/controls",
            "_model_module_version": "1.5.0",
            "_model_name": "DescriptionStyleModel",
            "_view_count": null,
            "_view_module": "@jupyter-widgets/base",
            "_view_module_version": "1.2.0",
            "_view_name": "StyleView",
            "description_width": ""
          }
        }
      }
    }
  },
  "nbformat": 4,
  "nbformat_minor": 0
}